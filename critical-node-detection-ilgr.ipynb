{
 "cells": [
  {
   "cell_type": "code",
   "execution_count": 1,
   "id": "5295492d",
   "metadata": {
    "_cell_guid": "b1076dfc-b9ad-4769-8c92-a6c4dae69d19",
    "_uuid": "8f2839f25d086af736a60e9eeb907d3b93b6e0e5",
    "execution": {
     "iopub.execute_input": "2025-03-16T13:33:22.676764Z",
     "iopub.status.busy": "2025-03-16T13:33:22.676245Z",
     "iopub.status.idle": "2025-03-16T13:33:29.883729Z",
     "shell.execute_reply": "2025-03-16T13:33:29.882211Z"
    },
    "papermill": {
     "duration": 7.217232,
     "end_time": "2025-03-16T13:33:29.885961",
     "exception": false,
     "start_time": "2025-03-16T13:33:22.668729",
     "status": "completed"
    },
    "tags": []
   },
   "outputs": [
    {
     "name": "stdout",
     "output_type": "stream",
     "text": [
      "\u001b[2K     \u001b[90m━━━━━━━━━━━━━━━━━━━━━━━━━━━━━━━━━━━━━━━━\u001b[0m \u001b[32m63.1/63.1 kB\u001b[0m \u001b[31m2.4 MB/s\u001b[0m eta \u001b[36m0:00:00\u001b[0m\r\n",
      "\u001b[2K   \u001b[90m━━━━━━━━━━━━━━━━━━━━━━━━━━━━━━━━━━━━━━━━\u001b[0m \u001b[32m1.1/1.1 MB\u001b[0m \u001b[31m37.7 MB/s\u001b[0m eta \u001b[36m0:00:00\u001b[0m\r\n",
      "\u001b[?25h"
     ]
    }
   ],
   "source": [
    "!pip install torch-geometric -q"
   ]
  },
  {
   "cell_type": "markdown",
   "id": "49e6a940",
   "metadata": {
    "papermill": {
     "duration": 0.005598,
     "end_time": "2025-03-16T13:33:29.897817",
     "exception": false,
     "start_time": "2025-03-16T13:33:29.892219",
     "status": "completed"
    },
    "tags": []
   },
   "source": [
    "## Imports"
   ]
  },
  {
   "cell_type": "code",
   "execution_count": 2,
   "id": "cffa1ed5",
   "metadata": {
    "execution": {
     "iopub.execute_input": "2025-03-16T13:33:29.910674Z",
     "iopub.status.busy": "2025-03-16T13:33:29.910263Z",
     "iopub.status.idle": "2025-03-16T13:33:42.950532Z",
     "shell.execute_reply": "2025-03-16T13:33:42.949561Z"
    },
    "papermill": {
     "duration": 13.048863,
     "end_time": "2025-03-16T13:33:42.952415",
     "exception": false,
     "start_time": "2025-03-16T13:33:29.903552",
     "status": "completed"
    },
    "tags": []
   },
   "outputs": [],
   "source": [
    "import numpy as np\n",
    "import torch\n",
    "from torch_geometric.nn import SAGEConv, TopKPooling\n",
    "from torch_geometric.data import Data\n",
    "import networkx as nx\n",
    "from torch_geometric.utils import from_networkx"
   ]
  },
  {
   "cell_type": "markdown",
   "id": "961984fb",
   "metadata": {
    "papermill": {
     "duration": 0.005659,
     "end_time": "2025-03-16T13:33:42.964097",
     "exception": false,
     "start_time": "2025-03-16T13:33:42.958438",
     "status": "completed"
    },
    "tags": []
   },
   "source": [
    "## Graph Robustness Metrics"
   ]
  },
  {
   "cell_type": "markdown",
   "id": "be5a0543",
   "metadata": {
    "papermill": {
     "duration": 0.005857,
     "end_time": "2025-03-16T13:33:42.976489",
     "exception": false,
     "start_time": "2025-03-16T13:33:42.970632",
     "status": "completed"
    },
    "tags": []
   },
   "source": [
    "**1. Effective Graph Resistance (EGR)**  \n",
    "   $$\n",
    "   R_g = \\frac{2}{N-1} \\sum_{i=1}^{N-c} \\frac{1}{\\lambda_i}\n",
    "   $$\n",
    "   where $ \\lambda_i $ are the eigenvalues of the Laplacian matrix of the graph."
   ]
  },
  {
   "cell_type": "code",
   "execution_count": 3,
   "id": "c2f80851",
   "metadata": {
    "execution": {
     "iopub.execute_input": "2025-03-16T13:33:42.991111Z",
     "iopub.status.busy": "2025-03-16T13:33:42.990483Z",
     "iopub.status.idle": "2025-03-16T13:33:42.996184Z",
     "shell.execute_reply": "2025-03-16T13:33:42.995036Z"
    },
    "papermill": {
     "duration": 0.015545,
     "end_time": "2025-03-16T13:33:42.997918",
     "exception": false,
     "start_time": "2025-03-16T13:33:42.982373",
     "status": "completed"
    },
    "tags": []
   },
   "outputs": [],
   "source": [
    "def compute_effective_resistance(graph):\n",
    "    laplacian = nx.laplacian_matrix(graph).toarray()\n",
    "    eigenvalues = np.linalg.eigvalsh(laplacian)\n",
    "    eigenvalues = eigenvalues[eigenvalues > 1e-8]  # Avoid zero eigenvalues\n",
    "    N = graph.number_of_nodes()\n",
    "    return (2 / (N - 1)) * np.sum(1 / eigenvalues)"
   ]
  },
  {
   "cell_type": "markdown",
   "id": "107546c5",
   "metadata": {
    "papermill": {
     "duration": 0.005462,
     "end_time": "2025-03-16T13:33:43.009463",
     "exception": false,
     "start_time": "2025-03-16T13:33:43.004001",
     "status": "completed"
    },
    "tags": []
   },
   "source": [
    "**2. Weighted Spectrum (WS)**  \n",
    "   $$\n",
    "   W_s = \\sum_i (1 - \\lambda_i)^n\n",
    "   $$\n",
    "   where $ n $ controls the depth of analysis"
   ]
  },
  {
   "cell_type": "code",
   "execution_count": 4,
   "id": "99ccaeb9",
   "metadata": {
    "execution": {
     "iopub.execute_input": "2025-03-16T13:33:43.022134Z",
     "iopub.status.busy": "2025-03-16T13:33:43.021726Z",
     "iopub.status.idle": "2025-03-16T13:33:43.026560Z",
     "shell.execute_reply": "2025-03-16T13:33:43.025593Z"
    },
    "papermill": {
     "duration": 0.013075,
     "end_time": "2025-03-16T13:33:43.028261",
     "exception": false,
     "start_time": "2025-03-16T13:33:43.015186",
     "status": "completed"
    },
    "tags": []
   },
   "outputs": [],
   "source": [
    "def compute_weighted_spectrum(graph, n=4):\n",
    "    laplacian = nx.normalized_laplacian_matrix(graph).toarray()\n",
    "    eigenvalues = np.linalg.eigvalsh(laplacian)\n",
    "    return np.sum((1 - eigenvalues) ** n)"
   ]
  },
  {
   "cell_type": "markdown",
   "id": "68b4dba1",
   "metadata": {
    "papermill": {
     "duration": 0.005367,
     "end_time": "2025-03-16T13:33:43.039640",
     "exception": false,
     "start_time": "2025-03-16T13:33:43.034273",
     "status": "completed"
    },
    "tags": []
   },
   "source": [
    "## Algorithm 1: ILGR Embedding Module\n",
    "**Input:** Graph $ G $, input node features $ X_v $ $ \\forall v \\in V $, unknown model weights $ W $ (combination weights) and $ Q $ (aggregation weights).\n",
    "\n",
    "**Output:** Nodes embedding vector $ z_v $ $ \\forall v \\in V $.\n",
    "\n",
    "**1. Initialize**: $ h^0_v = X_v $ for all $ v \\in V $.\n",
    "**2. For each layer** $ l = 1 $ to $ L $ do:\n",
    "   - For each node $ v = 1 $ to $ V $:\n",
    "     1. Compute neighborhood embedding using attention mechanism:\n",
    "        $$\n",
    "        h^l_{N(v)} = \\text{Attention}(Q^l h^{l-1}_k) \\quad \\forall k \\in N(v)\n",
    "        $$\n",
    "     2. Compute new embedding for node $ v $ using a **skip connection**:\n",
    "        $$\n",
    "        h^l_v = \\text{ReLU} \\left( W^l \\left[ h^{l-1}_v || h^{l-2}_v || h^l_{N(v)} \\right] \\right)\n",
    "        $$\n",
    "**3. Return**: Final embedding vector $ z_v = h^L_v $ for all $ v \\in V $.\n"
   ]
  },
  {
   "cell_type": "code",
   "execution_count": 5,
   "id": "a96ebd01",
   "metadata": {
    "execution": {
     "iopub.execute_input": "2025-03-16T13:33:43.052467Z",
     "iopub.status.busy": "2025-03-16T13:33:43.052020Z",
     "iopub.status.idle": "2025-03-16T13:33:43.058237Z",
     "shell.execute_reply": "2025-03-16T13:33:43.057182Z"
    },
    "papermill": {
     "duration": 0.0151,
     "end_time": "2025-03-16T13:33:43.060377",
     "exception": false,
     "start_time": "2025-03-16T13:33:43.045277",
     "status": "completed"
    },
    "tags": []
   },
   "outputs": [],
   "source": [
    "class ILGRNodeEmbedding(torch.nn.Module):\n",
    "    def __init__(self, hidden_channels):\n",
    "        super().__init__()\n",
    "        self.conv1 = SAGEConv(1, hidden_channels)\n",
    "        self.conv2 = SAGEConv(hidden_channels, hidden_channels)\n",
    "        self.attention = torch.nn.MultiheadAttention(hidden_channels, 1)\n",
    "        \n",
    "    def forward(self, x, edge_index):\n",
    "        # Skip connections and attention\n",
    "        h1 = self.conv1(x, edge_index)\n",
    "        h2 = self.conv2(h1, edge_index)\n",
    "        h, _ = self.attention(h2, h2, h2)\n",
    "        return torch.cat([h1, h2, h], dim=-1)"
   ]
  },
  {
   "cell_type": "markdown",
   "id": "1239c7fc",
   "metadata": {
    "papermill": {
     "duration": 0.005383,
     "end_time": "2025-03-16T13:33:43.071741",
     "exception": false,
     "start_time": "2025-03-16T13:33:43.066358",
     "status": "completed"
    },
    "tags": []
   },
   "source": [
    "## Regression Module\n",
    "\n",
    "The regression module applies a **non-linear transformation** using multiple layers:\n",
    "\n",
    "$$\n",
    "y_m = f(W_m \\cdot y_{m-1} + b_m)\n",
    "$$\n",
    "\n",
    "where:\n",
    "- $ y_m $ is the output of the $ m^{th} $ layer.\n",
    "- $ W_m $ and $ b_m $ are the **weights** and **biases** of the $ m^{th} $ layer.\n",
    "- $ f $ is an **activation function**\n",
    "- The input to the first layer is the **node embedding**:\n",
    "\n"
   ]
  },
  {
   "cell_type": "code",
   "execution_count": 6,
   "id": "fcfbc481",
   "metadata": {
    "execution": {
     "iopub.execute_input": "2025-03-16T13:33:43.084790Z",
     "iopub.status.busy": "2025-03-16T13:33:43.084347Z",
     "iopub.status.idle": "2025-03-16T13:33:43.090458Z",
     "shell.execute_reply": "2025-03-16T13:33:43.088992Z"
    },
    "papermill": {
     "duration": 0.014765,
     "end_time": "2025-03-16T13:33:43.092328",
     "exception": false,
     "start_time": "2025-03-16T13:33:43.077563",
     "status": "completed"
    },
    "tags": []
   },
   "outputs": [],
   "source": [
    "class RegressionModule(torch.nn.Module):\n",
    "    def __init__(self, input_dim):\n",
    "        super().__init__()\n",
    "        self.fc1 = torch.nn.Linear(input_dim, 12)\n",
    "        self.fc2 = torch.nn.Linear(12, 1)\n",
    "        \n",
    "    def forward(self, x):\n",
    "        x = torch.relu(self.fc1(x))\n",
    "        return self.fc2(x)"
   ]
  },
  {
   "cell_type": "markdown",
   "id": "3daa7f20",
   "metadata": {
    "papermill": {
     "duration": 0.005572,
     "end_time": "2025-03-16T13:33:43.103936",
     "exception": false,
     "start_time": "2025-03-16T13:33:43.098364",
     "status": "completed"
    },
    "tags": []
   },
   "source": [
    "## Full Model"
   ]
  },
  {
   "cell_type": "code",
   "execution_count": 7,
   "id": "5e3b81c4",
   "metadata": {
    "execution": {
     "iopub.execute_input": "2025-03-16T13:33:43.116839Z",
     "iopub.status.busy": "2025-03-16T13:33:43.116479Z",
     "iopub.status.idle": "2025-03-16T13:33:43.121936Z",
     "shell.execute_reply": "2025-03-16T13:33:43.120832Z"
    },
    "papermill": {
     "duration": 0.01395,
     "end_time": "2025-03-16T13:33:43.123710",
     "exception": false,
     "start_time": "2025-03-16T13:33:43.109760",
     "status": "completed"
    },
    "tags": []
   },
   "outputs": [],
   "source": [
    "class ILGR(torch.nn.Module):\n",
    "    def __init__(self, hidden_channels):\n",
    "        super().__init__()\n",
    "        self.embedding = ILGRNodeEmbedding(hidden_channels)\n",
    "        self.regression = RegressionModule(hidden_channels * 3)  # Concatenated embeddings\n",
    "        \n",
    "    def forward(self, data):\n",
    "        x, edge_index = data.x, data.edge_index\n",
    "        embedding = self.embedding(x, edge_index)\n",
    "        return self.regression(embedding)"
   ]
  },
  {
   "cell_type": "markdown",
   "id": "0976f8d4",
   "metadata": {
    "papermill": {
     "duration": 0.005384,
     "end_time": "2025-03-16T13:33:43.135280",
     "exception": false,
     "start_time": "2025-03-16T13:33:43.129896",
     "status": "completed"
    },
    "tags": []
   },
   "source": [
    "## Algorithm 2: ILGR Training\n",
    "**Input:** Model with unknown weights.\n",
    "**Output:** Trained model.\n",
    "\n",
    "1. Compute ground truth **criticality scores** of nodes based on graph robustness score.\n",
    "2. **For each epoch do**:\n",
    "   - Get each **node embedding** from the embedding module.\n",
    "   - Estimate **criticality scores** of nodes/links using the regression module.\n",
    "   - Update weights of both modules by solving the loss function:\n",
    "     $$\n",
    "     L_{ij} = -f(r_{ij}) \\log(σ(\\hat{y}_{ij})) - (1 - f(r_{ij})) \\log(1 - σ(\\hat{y}_{ij}))\n",
    "     $$\n",
    "3. **End loop**.\n",
    "4. Predict nodescores on the test graph.\n",
    "5. **Return**: Top $ N\\% $ of most critical nodes.\n"
   ]
  },
  {
   "cell_type": "markdown",
   "id": "3f23008e",
   "metadata": {
    "papermill": {
     "duration": 0.005329,
     "end_time": "2025-03-16T13:33:43.146188",
     "exception": false,
     "start_time": "2025-03-16T13:33:43.140859",
     "status": "completed"
    },
    "tags": []
   },
   "source": [
    "### Criticality Score Calculation"
   ]
  },
  {
   "cell_type": "markdown",
   "id": "0ec509f8",
   "metadata": {
    "papermill": {
     "duration": 0.005333,
     "end_time": "2025-03-16T13:33:43.157248",
     "exception": false,
     "start_time": "2025-03-16T13:33:43.151915",
     "status": "completed"
    },
    "tags": []
   },
   "source": [
    "### Algorithm 3: Conventional Approach for Identifying Critical Nodes/Links\n",
    "**Input:** Graph $ G $ with $ V $ nodes.\n",
    "**Output:** Node critical scores.\n",
    "\n",
    "**1. For each node/link** $ n $ in $ V $:\n",
    "   - Remove node $ n $ from the graph $ G $.\n",
    "   - Compute robustness metric of the **residual graph** $ (G - n) $.\n",
    "   - Assign a **criticality score** to node $ n $.\n",
    "\n",
    "**2. End loop**.\n",
    "\n",
    "3. Rank nodes based on computed **criticality scores**.\n",
    "4. Top ranks correspond to the **most critical nodes**.\n",
    "**5. Return**: Top $ N\\% $ of most critical nodes."
   ]
  },
  {
   "cell_type": "code",
   "execution_count": 8,
   "id": "d2d3427a",
   "metadata": {
    "execution": {
     "iopub.execute_input": "2025-03-16T13:33:43.169935Z",
     "iopub.status.busy": "2025-03-16T13:33:43.169576Z",
     "iopub.status.idle": "2025-03-16T13:33:43.174583Z",
     "shell.execute_reply": "2025-03-16T13:33:43.173485Z"
    },
    "papermill": {
     "duration": 0.013557,
     "end_time": "2025-03-16T13:33:43.176364",
     "exception": false,
     "start_time": "2025-03-16T13:33:43.162807",
     "status": "completed"
    },
    "tags": []
   },
   "outputs": [],
   "source": [
    "def compute_criticality_scores(graph, metric):\n",
    "    scores = []\n",
    "    for node in graph.nodes():\n",
    "        subgraph = graph.copy()\n",
    "        subgraph.remove_node(node)\n",
    "        score = metric(graph) - metric(subgraph)  # Drop in robustness\n",
    "        scores.append(score)\n",
    "    return scores"
   ]
  },
  {
   "cell_type": "markdown",
   "id": "11c23e75",
   "metadata": {
    "papermill": {
     "duration": 0.005401,
     "end_time": "2025-03-16T13:33:43.187781",
     "exception": false,
     "start_time": "2025-03-16T13:33:43.182380",
     "status": "completed"
    },
    "tags": []
   },
   "source": [
    "### Ranking Loss\n",
    "$$\n",
    "     L_{ij} = -f(r_{ij}) \\log(σ(\\hat{y}_{ij})) - (1 - f(r_{ij})) \\log(1 - σ(\\hat{y}_{ij}))\n",
    "     $$"
   ]
  },
  {
   "cell_type": "code",
   "execution_count": 9,
   "id": "df3eb8be",
   "metadata": {
    "execution": {
     "iopub.execute_input": "2025-03-16T13:33:43.200454Z",
     "iopub.status.busy": "2025-03-16T13:33:43.200067Z",
     "iopub.status.idle": "2025-03-16T13:33:43.205707Z",
     "shell.execute_reply": "2025-03-16T13:33:43.204766Z"
    },
    "papermill": {
     "duration": 0.013846,
     "end_time": "2025-03-16T13:33:43.207212",
     "exception": false,
     "start_time": "2025-03-16T13:33:43.193366",
     "status": "completed"
    },
    "tags": []
   },
   "outputs": [],
   "source": [
    "def pairwise_ranking_loss(y_pred, y_true):\n",
    "    # Compare all pairs of nodes\n",
    "    loss = 0\n",
    "    for i in range(len(y_true)):\n",
    "        for j in range(i+1, len(y_true)):\n",
    "            if y_true[i] > y_true[j]:\n",
    "                loss += torch.log(torch.sigmoid(y_pred[i] - y_pred[j]))\n",
    "            else:\n",
    "                loss += torch.log(torch.sigmoid(y_pred[j] - y_pred[i]))\n",
    "    return -loss / (len(y_true) * (len(y_true)-1) / 2)"
   ]
  },
  {
   "cell_type": "markdown",
   "id": "386f79e3",
   "metadata": {
    "papermill": {
     "duration": 0.005346,
     "end_time": "2025-03-16T13:33:43.218517",
     "exception": false,
     "start_time": "2025-03-16T13:33:43.213171",
     "status": "completed"
    },
    "tags": []
   },
   "source": [
    "## Graph Preprocessing"
   ]
  },
  {
   "cell_type": "markdown",
   "id": "a214e957",
   "metadata": {
    "papermill": {
     "duration": 0.005243,
     "end_time": "2025-03-16T13:33:43.229295",
     "exception": false,
     "start_time": "2025-03-16T13:33:43.224052",
     "status": "completed"
    },
    "tags": []
   },
   "source": [
    "### Generate Synthetic Graphs"
   ]
  },
  {
   "cell_type": "code",
   "execution_count": 10,
   "id": "e9af05a6",
   "metadata": {
    "execution": {
     "iopub.execute_input": "2025-03-16T13:33:43.241972Z",
     "iopub.status.busy": "2025-03-16T13:33:43.241583Z",
     "iopub.status.idle": "2025-03-16T13:33:43.246094Z",
     "shell.execute_reply": "2025-03-16T13:33:43.245238Z"
    },
    "papermill": {
     "duration": 0.012813,
     "end_time": "2025-03-16T13:33:43.247793",
     "exception": false,
     "start_time": "2025-03-16T13:33:43.234980",
     "status": "completed"
    },
    "tags": []
   },
   "outputs": [],
   "source": [
    "# Power-law graph (Barabási-Albert model)\n",
    "def generate_power_law(n, m):\n",
    "    return nx.barabasi_albert_graph(n, m)\n",
    "\n",
    "# Power-law cluster graph (Holme-Kim model)\n",
    "def generate_power_law_cluster(n, m, p):\n",
    "    return nx.powerlaw_cluster_graph(n, m, p)"
   ]
  },
  {
   "cell_type": "markdown",
   "id": "ebca706f",
   "metadata": {
    "papermill": {
     "duration": 0.005455,
     "end_time": "2025-03-16T13:33:43.259070",
     "exception": false,
     "start_time": "2025-03-16T13:33:43.253615",
     "status": "completed"
    },
    "tags": []
   },
   "source": [
    "### real-world datasets (load function)"
   ]
  },
  {
   "cell_type": "code",
   "execution_count": 11,
   "id": "25dbefba",
   "metadata": {
    "execution": {
     "iopub.execute_input": "2025-03-16T13:33:43.272019Z",
     "iopub.status.busy": "2025-03-16T13:33:43.271657Z",
     "iopub.status.idle": "2025-03-16T13:33:43.276506Z",
     "shell.execute_reply": "2025-03-16T13:33:43.275161Z"
    },
    "papermill": {
     "duration": 0.013347,
     "end_time": "2025-03-16T13:33:43.278256",
     "exception": false,
     "start_time": "2025-03-16T13:33:43.264909",
     "status": "completed"
    },
    "tags": []
   },
   "outputs": [],
   "source": [
    "def load_real_world_graph(dataset_name):\n",
    "    G = nx.read_edgelist(dataset_name, nodetype=int)\n",
    "    return G"
   ]
  },
  {
   "cell_type": "markdown",
   "id": "425bdb43",
   "metadata": {
    "papermill": {
     "duration": 0.005389,
     "end_time": "2025-03-16T13:33:43.289474",
     "exception": false,
     "start_time": "2025-03-16T13:33:43.284085",
     "status": "completed"
    },
    "tags": []
   },
   "source": [
    "### Convert NetworkX graph to PyTorch Geometric format"
   ]
  },
  {
   "cell_type": "code",
   "execution_count": 12,
   "id": "6c1f40cd",
   "metadata": {
    "execution": {
     "iopub.execute_input": "2025-03-16T13:33:43.302214Z",
     "iopub.status.busy": "2025-03-16T13:33:43.301876Z",
     "iopub.status.idle": "2025-03-16T13:33:43.307222Z",
     "shell.execute_reply": "2025-03-16T13:33:43.306105Z"
    },
    "papermill": {
     "duration": 0.014044,
     "end_time": "2025-03-16T13:33:43.309303",
     "exception": false,
     "start_time": "2025-03-16T13:33:43.295259",
     "status": "completed"
    },
    "tags": []
   },
   "outputs": [],
   "source": [
    "def nx_to_pyg(nx_graph):\n",
    "    # Convert the NetworkX graph to PyG data format\n",
    "    pyg_data = from_networkx(nx_graph)\n",
    "    \n",
    "    # Ensure the attributes are tensors (optional, based on your needs)\n",
    "    pyg_data.x = torch.tensor(pyg_data.x, dtype=torch.float) if pyg_data.x is not None else None\n",
    "    pyg_data.edge_index = torch.tensor(pyg_data.edge_index, dtype=torch.long)\n",
    "    pyg_data.edge_attr = torch.tensor(pyg_data.edge_attr, dtype=torch.float) if pyg_data.edge_attr is not None else None\n",
    "    \n",
    "    return pyg_data"
   ]
  },
  {
   "cell_type": "markdown",
   "id": "d7d0a474",
   "metadata": {
    "papermill": {
     "duration": 0.006002,
     "end_time": "2025-03-16T13:33:43.321194",
     "exception": false,
     "start_time": "2025-03-16T13:33:43.315192",
     "status": "completed"
    },
    "tags": []
   },
   "source": [
    "### Training Loop"
   ]
  },
  {
   "cell_type": "code",
   "execution_count": 13,
   "id": "b98a027c",
   "metadata": {
    "execution": {
     "iopub.execute_input": "2025-03-16T13:33:43.334140Z",
     "iopub.status.busy": "2025-03-16T13:33:43.333788Z",
     "iopub.status.idle": "2025-03-16T13:33:43.339481Z",
     "shell.execute_reply": "2025-03-16T13:33:43.338402Z"
    },
    "papermill": {
     "duration": 0.014297,
     "end_time": "2025-03-16T13:33:43.341270",
     "exception": false,
     "start_time": "2025-03-16T13:33:43.326973",
     "status": "completed"
    },
    "tags": []
   },
   "outputs": [],
   "source": [
    "def train_model(model, data, y_true, epochs=100, lr=0.001):\n",
    "    optimizer = torch.optim.Adam(model.parameters(), lr=lr)\n",
    "\n",
    "    for epoch in range(epochs):\n",
    "        model.train()\n",
    "        optimizer.zero_grad()\n",
    "\n",
    "        # Forward pass\n",
    "        y_pred = model(data)\n",
    "\n",
    "        # Compute loss\n",
    "        loss = pairwise_ranking_loss(y_pred, y_true)\n",
    "\n",
    "        # Backward pass and optimization\n",
    "        loss.backward()\n",
    "        optimizer.step()\n",
    "\n",
    "        print(f\"Epoch {epoch+1}, Loss: {loss.item()}\")\n"
   ]
  },
  {
   "cell_type": "code",
   "execution_count": null,
   "id": "dcf7ef2b",
   "metadata": {
    "papermill": {
     "duration": 0.005419,
     "end_time": "2025-03-16T13:33:43.352494",
     "exception": false,
     "start_time": "2025-03-16T13:33:43.347075",
     "status": "completed"
    },
    "tags": []
   },
   "outputs": [],
   "source": []
  },
  {
   "cell_type": "code",
   "execution_count": null,
   "id": "37fbb98f",
   "metadata": {
    "papermill": {
     "duration": 0.005504,
     "end_time": "2025-03-16T13:33:43.363790",
     "exception": false,
     "start_time": "2025-03-16T13:33:43.358286",
     "status": "completed"
    },
    "tags": []
   },
   "outputs": [],
   "source": []
  }
 ],
 "metadata": {
  "kaggle": {
   "accelerator": "none",
   "dataSources": [],
   "dockerImageVersionId": 30918,
   "isGpuEnabled": false,
   "isInternetEnabled": true,
   "language": "python",
   "sourceType": "notebook"
  },
  "kernelspec": {
   "display_name": "Python 3",
   "language": "python",
   "name": "python3"
  },
  "language_info": {
   "codemirror_mode": {
    "name": "ipython",
    "version": 3
   },
   "file_extension": ".py",
   "mimetype": "text/x-python",
   "name": "python",
   "nbconvert_exporter": "python",
   "pygments_lexer": "ipython3",
   "version": "3.10.12"
  },
  "papermill": {
   "default_parameters": {},
   "duration": 26.604239,
   "end_time": "2025-03-16T13:33:46.381507",
   "environment_variables": {},
   "exception": null,
   "input_path": "__notebook__.ipynb",
   "output_path": "__notebook__.ipynb",
   "parameters": {},
   "start_time": "2025-03-16T13:33:19.777268",
   "version": "2.6.0"
  }
 },
 "nbformat": 4,
 "nbformat_minor": 5
}
