{
 "cells": [
  {
   "cell_type": "code",
   "execution_count": 1,
   "id": "2682c971",
   "metadata": {
    "_cell_guid": "b1076dfc-b9ad-4769-8c92-a6c4dae69d19",
    "_uuid": "8f2839f25d086af736a60e9eeb907d3b93b6e0e5",
    "execution": {
     "iopub.execute_input": "2025-03-17T10:49:01.193147Z",
     "iopub.status.busy": "2025-03-17T10:49:01.192813Z",
     "iopub.status.idle": "2025-03-17T10:49:07.905105Z",
     "shell.execute_reply": "2025-03-17T10:49:07.903918Z"
    },
    "papermill": {
     "duration": 6.722123,
     "end_time": "2025-03-17T10:49:07.907211",
     "exception": false,
     "start_time": "2025-03-17T10:49:01.185088",
     "status": "completed"
    },
    "tags": []
   },
   "outputs": [
    {
     "name": "stdout",
     "output_type": "stream",
     "text": [
      "\u001b[2K     \u001b[90m━━━━━━━━━━━━━━━━━━━━━━━━━━━━━━━━━━━━━━━━\u001b[0m \u001b[32m63.1/63.1 kB\u001b[0m \u001b[31m2.0 MB/s\u001b[0m eta \u001b[36m0:00:00\u001b[0m\r\n",
      "\u001b[2K   \u001b[90m━━━━━━━━━━━━━━━━━━━━━━━━━━━━━━━━━━━━━━━━\u001b[0m \u001b[32m1.1/1.1 MB\u001b[0m \u001b[31m18.7 MB/s\u001b[0m eta \u001b[36m0:00:00\u001b[0m\r\n",
      "\u001b[?25h"
     ]
    }
   ],
   "source": [
    "!pip install torch-geometric -q"
   ]
  },
  {
   "cell_type": "markdown",
   "id": "129e1ef4",
   "metadata": {
    "papermill": {
     "duration": 0.005607,
     "end_time": "2025-03-17T10:49:07.919524",
     "exception": false,
     "start_time": "2025-03-17T10:49:07.913917",
     "status": "completed"
    },
    "tags": []
   },
   "source": [
    "## Imports"
   ]
  },
  {
   "cell_type": "code",
   "execution_count": 2,
   "id": "e33cd70e",
   "metadata": {
    "execution": {
     "iopub.execute_input": "2025-03-17T10:49:07.932491Z",
     "iopub.status.busy": "2025-03-17T10:49:07.932089Z",
     "iopub.status.idle": "2025-03-17T10:49:22.384919Z",
     "shell.execute_reply": "2025-03-17T10:49:22.383942Z"
    },
    "papermill": {
     "duration": 14.461525,
     "end_time": "2025-03-17T10:49:22.386797",
     "exception": false,
     "start_time": "2025-03-17T10:49:07.925272",
     "status": "completed"
    },
    "tags": []
   },
   "outputs": [],
   "source": [
    "import numpy as np\n",
    "import torch\n",
    "from torch_geometric.nn import SAGEConv\n",
    "from torch_geometric.data import Data\n",
    "import networkx as nx\n",
    "from torch_geometric.utils import from_networkx\n",
    "import matplotlib.pyplot as plt\n",
    "from sklearn.metrics import accuracy_score, precision_score, recall_score, f1_score\n",
    "from sklearn.metrics import confusion_matrix, classification_report\n",
    "import seaborn as sns"
   ]
  },
  {
   "cell_type": "markdown",
   "id": "2b4f6075",
   "metadata": {
    "papermill": {
     "duration": 0.005525,
     "end_time": "2025-03-17T10:49:22.398545",
     "exception": false,
     "start_time": "2025-03-17T10:49:22.393020",
     "status": "completed"
    },
    "tags": []
   },
   "source": [
    "## Graph Robustness Metrics"
   ]
  },
  {
   "cell_type": "markdown",
   "id": "434f894a",
   "metadata": {
    "papermill": {
     "duration": 0.005431,
     "end_time": "2025-03-17T10:49:22.409734",
     "exception": false,
     "start_time": "2025-03-17T10:49:22.404303",
     "status": "completed"
    },
    "tags": []
   },
   "source": [
    "**1. Effective Graph Resistance (EGR)**  \n",
    "   $$\n",
    "   R_g = \\frac{2}{N-1} \\sum_{i=1}^{N-c} \\frac{1}{\\lambda_i}\n",
    "   $$\n",
    "   where $ \\lambda_i $ are the eigenvalues of the Laplacian matrix of the graph."
   ]
  },
  {
   "cell_type": "code",
   "execution_count": 3,
   "id": "20336f05",
   "metadata": {
    "execution": {
     "iopub.execute_input": "2025-03-17T10:49:22.422699Z",
     "iopub.status.busy": "2025-03-17T10:49:22.422059Z",
     "iopub.status.idle": "2025-03-17T10:49:22.427276Z",
     "shell.execute_reply": "2025-03-17T10:49:22.426226Z"
    },
    "papermill": {
     "duration": 0.013527,
     "end_time": "2025-03-17T10:49:22.428965",
     "exception": false,
     "start_time": "2025-03-17T10:49:22.415438",
     "status": "completed"
    },
    "tags": []
   },
   "outputs": [],
   "source": [
    "def compute_effective_resistance(graph):\n",
    "    laplacian = nx.laplacian_matrix(graph).toarray()\n",
    "    eigenvalues = np.linalg.eigvalsh(laplacian)\n",
    "    eigenvalues = eigenvalues[eigenvalues > 1e-8]  # Avoid zero eigenvalues\n",
    "    N = graph.number_of_nodes()\n",
    "    return (2 / (N - 1)) * np.sum(1 / eigenvalues)"
   ]
  },
  {
   "cell_type": "markdown",
   "id": "ad92b40a",
   "metadata": {
    "papermill": {
     "duration": 0.005615,
     "end_time": "2025-03-17T10:49:22.440715",
     "exception": false,
     "start_time": "2025-03-17T10:49:22.435100",
     "status": "completed"
    },
    "tags": []
   },
   "source": [
    "**2. Weighted Spectrum (WS)**  \n",
    "   $$\n",
    "   W_s = \\sum_i (1 - \\lambda_i)^n\n",
    "   $$\n",
    "   where $ n $ controls the depth of analysis"
   ]
  },
  {
   "cell_type": "code",
   "execution_count": 4,
   "id": "25291e9d",
   "metadata": {
    "execution": {
     "iopub.execute_input": "2025-03-17T10:49:22.453442Z",
     "iopub.status.busy": "2025-03-17T10:49:22.453084Z",
     "iopub.status.idle": "2025-03-17T10:49:22.457667Z",
     "shell.execute_reply": "2025-03-17T10:49:22.456698Z"
    },
    "papermill": {
     "duration": 0.012544,
     "end_time": "2025-03-17T10:49:22.459129",
     "exception": false,
     "start_time": "2025-03-17T10:49:22.446585",
     "status": "completed"
    },
    "tags": []
   },
   "outputs": [],
   "source": [
    "def compute_weighted_spectrum(graph, n=4):\n",
    "    laplacian = nx.normalized_laplacian_matrix(graph).toarray()\n",
    "    eigenvalues = np.linalg.eigvalsh(laplacian)\n",
    "    return np.sum((1 - eigenvalues) ** n)"
   ]
  },
  {
   "cell_type": "markdown",
   "id": "0357a0cd",
   "metadata": {
    "papermill": {
     "duration": 0.005517,
     "end_time": "2025-03-17T10:49:22.470538",
     "exception": false,
     "start_time": "2025-03-17T10:49:22.465021",
     "status": "completed"
    },
    "tags": []
   },
   "source": [
    "## Algorithm 1: ILGR Embedding Module\n",
    "**Input:** Graph $ G $, input node features $ X_v $ $ \\forall v \\in V $, unknown model weights $ W $ (combination weights) and $ Q $ (aggregation weights).\n",
    "\n",
    "**Output:** Nodes embedding vector $ z_v $ $ \\forall v \\in V $.\n",
    "\n",
    "**1. Initialize**: $ h^0_v = X_v $ for all $ v \\in V $.\n",
    "**2. For each layer** $ l = 1 $ to $ L $ do:\n",
    "   - For each node $ v = 1 $ to $ V $:\n",
    "     1. Compute neighborhood embedding using attention mechanism:\n",
    "        $$\n",
    "        h^l_{N(v)} = \\text{Attention}(Q^l h^{l-1}_k) \\quad \\forall k \\in N(v)\n",
    "        $$\n",
    "     2. Compute new embedding for node $ v $ using a **skip connection**:\n",
    "        $$\n",
    "        h^l_v = \\text{ReLU} \\left( W^l \\left[ h^{l-1}_v || h^{l-2}_v || h^l_{N(v)} \\right] \\right)\n",
    "        $$\n",
    "**3. Return**: Final embedding vector $ z_v = h^L_v $ for all $ v \\in V $.\n"
   ]
  },
  {
   "cell_type": "code",
   "execution_count": 5,
   "id": "88db9ff1",
   "metadata": {
    "execution": {
     "iopub.execute_input": "2025-03-17T10:49:22.483139Z",
     "iopub.status.busy": "2025-03-17T10:49:22.482801Z",
     "iopub.status.idle": "2025-03-17T10:49:22.489029Z",
     "shell.execute_reply": "2025-03-17T10:49:22.488048Z"
    },
    "papermill": {
     "duration": 0.014407,
     "end_time": "2025-03-17T10:49:22.490712",
     "exception": false,
     "start_time": "2025-03-17T10:49:22.476305",
     "status": "completed"
    },
    "tags": []
   },
   "outputs": [],
   "source": [
    "class ILGRNodeEmbedding(torch.nn.Module):\n",
    "    def __init__(self, hidden_channels):\n",
    "        super().__init__()\n",
    "        self.conv1 = SAGEConv(3, hidden_channels, aggr=\"max\")  # 3 input features: degree, avg_neighbor_degree, criticality\n",
    "        self.conv2 = SAGEConv(hidden_channels, hidden_channels, aggr=\"max\")\n",
    "        self.conv3 = SAGEConv(hidden_channels, hidden_channels, aggr=\"max\")\n",
    "        self.attention = torch.nn.MultiheadAttention(hidden_channels, 1)\n",
    "        \n",
    "    def forward(self, x, edge_index):\n",
    "        # Skip connections and attention\n",
    "        h1 = torch.relu(self.conv1(x, edge_index))\n",
    "        h2 = torch.relu(self.conv2(h1, edge_index))\n",
    "        h3 = torch.relu(self.conv3(h2, edge_index))\n",
    "        h, _ = self.attention(h3, h3, h3)\n",
    "        return torch.cat([h1, h2, h3, h], dim=-1)"
   ]
  },
  {
   "cell_type": "markdown",
   "id": "095d2054",
   "metadata": {
    "papermill": {
     "duration": 0.005451,
     "end_time": "2025-03-17T10:49:22.502276",
     "exception": false,
     "start_time": "2025-03-17T10:49:22.496825",
     "status": "completed"
    },
    "tags": []
   },
   "source": [
    "## Regression Module\n",
    "\n",
    "The regression module applies a **non-linear transformation** using multiple layers:\n",
    "\n",
    "$$\n",
    "y_m = f(W_m \\cdot y_{m-1} + b_m)\n",
    "$$\n",
    "\n",
    "where:\n",
    "- $ y_m $ is the output of the $ m^{th} $ layer.\n",
    "- $ W_m $ and $ b_m $ are the **weights** and **biases** of the $ m^{th} $ layer.\n",
    "- $ f $ is an **activation function**\n",
    "- The input to the first layer is the **node embedding**:\n",
    "\n"
   ]
  },
  {
   "cell_type": "code",
   "execution_count": 6,
   "id": "aa09b626",
   "metadata": {
    "execution": {
     "iopub.execute_input": "2025-03-17T10:49:22.514973Z",
     "iopub.status.busy": "2025-03-17T10:49:22.514646Z",
     "iopub.status.idle": "2025-03-17T10:49:22.519997Z",
     "shell.execute_reply": "2025-03-17T10:49:22.518949Z"
    },
    "papermill": {
     "duration": 0.013649,
     "end_time": "2025-03-17T10:49:22.521663",
     "exception": false,
     "start_time": "2025-03-17T10:49:22.508014",
     "status": "completed"
    },
    "tags": []
   },
   "outputs": [],
   "source": [
    "class RegressionModule(torch.nn.Module):\n",
    "    def __init__(self, input_dim):\n",
    "        super().__init__()\n",
    "        self.fc1 = torch.nn.Linear(input_dim, 64)\n",
    "        self.fc2 = torch.nn.Linear(64, 32)\n",
    "        self.fc3 = torch.nn.Linear(32, 1)\n",
    "        \n",
    "    def forward(self, x):\n",
    "        x = torch.relu(self.fc1(x))\n",
    "        x = torch.relu(self.fc2(x))\n",
    "        return self.fc3(x)"
   ]
  },
  {
   "cell_type": "markdown",
   "id": "1436e409",
   "metadata": {
    "papermill": {
     "duration": 0.005623,
     "end_time": "2025-03-17T10:49:22.533351",
     "exception": false,
     "start_time": "2025-03-17T10:49:22.527728",
     "status": "completed"
    },
    "tags": []
   },
   "source": [
    "## Full Model"
   ]
  },
  {
   "cell_type": "code",
   "execution_count": 7,
   "id": "392af751",
   "metadata": {
    "execution": {
     "iopub.execute_input": "2025-03-17T10:49:22.545958Z",
     "iopub.status.busy": "2025-03-17T10:49:22.545633Z",
     "iopub.status.idle": "2025-03-17T10:49:22.550750Z",
     "shell.execute_reply": "2025-03-17T10:49:22.549770Z"
    },
    "papermill": {
     "duration": 0.013195,
     "end_time": "2025-03-17T10:49:22.552294",
     "exception": false,
     "start_time": "2025-03-17T10:49:22.539099",
     "status": "completed"
    },
    "tags": []
   },
   "outputs": [],
   "source": [
    "class ILGR(torch.nn.Module):\n",
    "    def __init__(self, hidden_channels):\n",
    "        super().__init__()\n",
    "        self.embedding = ILGRNodeEmbedding(hidden_channels)\n",
    "        self.regression = RegressionModule(hidden_channels * 4)  # Concatenated embeddings\n",
    "        \n",
    "    def forward(self, data):\n",
    "        x, edge_index = data.x, data.edge_index\n",
    "        embedding = self.embedding(x, edge_index)\n",
    "        return self.regression(embedding)"
   ]
  },
  {
   "cell_type": "markdown",
   "id": "8958d498",
   "metadata": {
    "papermill": {
     "duration": 0.005445,
     "end_time": "2025-03-17T10:49:22.563990",
     "exception": false,
     "start_time": "2025-03-17T10:49:22.558545",
     "status": "completed"
    },
    "tags": []
   },
   "source": [
    "### Criticality Score Calculation"
   ]
  },
  {
   "cell_type": "markdown",
   "id": "8b5d82c0",
   "metadata": {
    "papermill": {
     "duration": 0.005308,
     "end_time": "2025-03-17T10:49:22.574979",
     "exception": false,
     "start_time": "2025-03-17T10:49:22.569671",
     "status": "completed"
    },
    "tags": []
   },
   "source": [
    "### Algorithm 3: Conventional Approach for Identifying Critical Nodes/Links\n",
    "**Input:** Graph $ G $ with $ V $ nodes.\n",
    "**Output:** Node critical scores.\n",
    "\n",
    "**1. For each node/link** $ n $ in $ V $:\n",
    "   - Remove node $ n $ from the graph $ G $.\n",
    "   - Compute robustness metric of the **residual graph** $ (G - n) $.\n",
    "   - Assign a **criticality score** to node $ n $.\n",
    "\n",
    "**2. End loop**.\n",
    "\n",
    "3. Rank nodes based on computed **criticality scores**.\n",
    "4. Top ranks correspond to the **most critical nodes**.\n",
    "**5. Return**: Top $ N\\% $ of most critical nodes."
   ]
  },
  {
   "cell_type": "code",
   "execution_count": 8,
   "id": "e262e3d4",
   "metadata": {
    "execution": {
     "iopub.execute_input": "2025-03-17T10:49:22.587341Z",
     "iopub.status.busy": "2025-03-17T10:49:22.586989Z",
     "iopub.status.idle": "2025-03-17T10:49:22.591732Z",
     "shell.execute_reply": "2025-03-17T10:49:22.590916Z"
    },
    "papermill": {
     "duration": 0.013074,
     "end_time": "2025-03-17T10:49:22.593657",
     "exception": false,
     "start_time": "2025-03-17T10:49:22.580583",
     "status": "completed"
    },
    "tags": []
   },
   "outputs": [],
   "source": [
    "def compute_criticality_scores(graph, metric):\n",
    "    scores = []\n",
    "    for node in graph.nodes():\n",
    "        subgraph = graph.copy()\n",
    "        subgraph.remove_node(node)\n",
    "        score = metric(graph) - metric(subgraph)  # Drop in robustness\n",
    "        scores.append(score)\n",
    "    return scores"
   ]
  },
  {
   "cell_type": "markdown",
   "id": "9be7be33",
   "metadata": {
    "papermill": {
     "duration": 0.005961,
     "end_time": "2025-03-17T10:49:22.605568",
     "exception": false,
     "start_time": "2025-03-17T10:49:22.599607",
     "status": "completed"
    },
    "tags": []
   },
   "source": [
    "### Ranking Loss\n",
    "$$\n",
    "     L_{ij} = -f(r_{ij}) \\log(σ(\\hat{y}_{ij})) - (1 - f(r_{ij})) \\log(1 - σ(\\hat{y}_{ij}))\n",
    "     $$"
   ]
  },
  {
   "cell_type": "code",
   "execution_count": 9,
   "id": "fa601d8c",
   "metadata": {
    "execution": {
     "iopub.execute_input": "2025-03-17T10:49:22.618785Z",
     "iopub.status.busy": "2025-03-17T10:49:22.618443Z",
     "iopub.status.idle": "2025-03-17T10:49:22.623939Z",
     "shell.execute_reply": "2025-03-17T10:49:22.622935Z"
    },
    "papermill": {
     "duration": 0.013692,
     "end_time": "2025-03-17T10:49:22.625394",
     "exception": false,
     "start_time": "2025-03-17T10:49:22.611702",
     "status": "completed"
    },
    "tags": []
   },
   "outputs": [],
   "source": [
    "def pairwise_ranking_loss(y_pred, y_true):\n",
    "    # Compare all pairs of nodes\n",
    "    loss = 0\n",
    "    for i in range(len(y_true)):\n",
    "        for j in range(i+1, len(y_true)):\n",
    "            if y_true[i] > y_true[j]:\n",
    "                loss += torch.log(1 + torch.exp(-(y_pred[i] - y_pred[j])))\n",
    "            elif y_true[i] < y_true[j]:\n",
    "                loss += torch.log(1 + torch.exp(y_pred[i] - y_pred[j]))\n",
    "    return loss / (len(y_true) * (len(y_true)-1) / 2)"
   ]
  },
  {
   "cell_type": "markdown",
   "id": "39fbd81b",
   "metadata": {
    "papermill": {
     "duration": 0.005564,
     "end_time": "2025-03-17T10:49:22.636828",
     "exception": false,
     "start_time": "2025-03-17T10:49:22.631264",
     "status": "completed"
    },
    "tags": []
   },
   "source": [
    "## Graph Preprocessing"
   ]
  },
  {
   "cell_type": "markdown",
   "id": "6451c35a",
   "metadata": {
    "papermill": {
     "duration": 0.005397,
     "end_time": "2025-03-17T10:49:22.648119",
     "exception": false,
     "start_time": "2025-03-17T10:49:22.642722",
     "status": "completed"
    },
    "tags": []
   },
   "source": [
    "### Generate Synthetic Graphs"
   ]
  },
  {
   "cell_type": "code",
   "execution_count": 10,
   "id": "d00b2391",
   "metadata": {
    "execution": {
     "iopub.execute_input": "2025-03-17T10:49:22.661155Z",
     "iopub.status.busy": "2025-03-17T10:49:22.660802Z",
     "iopub.status.idle": "2025-03-17T10:49:22.665508Z",
     "shell.execute_reply": "2025-03-17T10:49:22.664401Z"
    },
    "papermill": {
     "duration": 0.013148,
     "end_time": "2025-03-17T10:49:22.666994",
     "exception": false,
     "start_time": "2025-03-17T10:49:22.653846",
     "status": "completed"
    },
    "tags": []
   },
   "outputs": [],
   "source": [
    "# Power-law graph (Barabási-Albert model)\n",
    "def generate_power_law(n, m):\n",
    "    return nx.barabasi_albert_graph(n, m)\n",
    "\n",
    "# Power-law cluster graph (Holme-Kim model)\n",
    "def generate_power_law_cluster(n, m, p):\n",
    "    return nx.powerlaw_cluster_graph(n, m, p)"
   ]
  },
  {
   "cell_type": "markdown",
   "id": "9ffc21e6",
   "metadata": {
    "papermill": {
     "duration": 0.005444,
     "end_time": "2025-03-17T10:49:22.678402",
     "exception": false,
     "start_time": "2025-03-17T10:49:22.672958",
     "status": "completed"
    },
    "tags": []
   },
   "source": [
    "### real-world datasets (load function)"
   ]
  },
  {
   "cell_type": "code",
   "execution_count": 11,
   "id": "4a43d4b7",
   "metadata": {
    "execution": {
     "iopub.execute_input": "2025-03-17T10:49:22.690998Z",
     "iopub.status.busy": "2025-03-17T10:49:22.690670Z",
     "iopub.status.idle": "2025-03-17T10:49:22.694925Z",
     "shell.execute_reply": "2025-03-17T10:49:22.694005Z"
    },
    "papermill": {
     "duration": 0.012198,
     "end_time": "2025-03-17T10:49:22.696303",
     "exception": false,
     "start_time": "2025-03-17T10:49:22.684105",
     "status": "completed"
    },
    "tags": []
   },
   "outputs": [],
   "source": [
    "def load_real_world_graph(dataset_name):\n",
    "    G = nx.read_edgelist(dataset_name, nodetype=int)\n",
    "    return G"
   ]
  },
  {
   "cell_type": "markdown",
   "id": "8acaef22",
   "metadata": {
    "papermill": {
     "duration": 0.00547,
     "end_time": "2025-03-17T10:49:22.707631",
     "exception": false,
     "start_time": "2025-03-17T10:49:22.702161",
     "status": "completed"
    },
    "tags": []
   },
   "source": [
    "### Convert NetworkX graph to PyTorch Geometric format"
   ]
  },
  {
   "cell_type": "code",
   "execution_count": 12,
   "id": "9968e6c8",
   "metadata": {
    "execution": {
     "iopub.execute_input": "2025-03-17T10:49:22.720021Z",
     "iopub.status.busy": "2025-03-17T10:49:22.719691Z",
     "iopub.status.idle": "2025-03-17T10:49:22.725386Z",
     "shell.execute_reply": "2025-03-17T10:49:22.724502Z"
    },
    "papermill": {
     "duration": 0.0138,
     "end_time": "2025-03-17T10:49:22.727010",
     "exception": false,
     "start_time": "2025-03-17T10:49:22.713210",
     "status": "completed"
    },
    "tags": []
   },
   "outputs": [],
   "source": [
    "def nx_to_pyg(nx_graph, criticality_scores):\n",
    "    # Convert NetworkX graph to PyG format\n",
    "    pyg_data = from_networkx(nx_graph)\n",
    "\n",
    "    # Compute node features: degree, average neighbor degree, etc.\n",
    "    degrees = torch.tensor([nx_graph.degree(n) for n in nx_graph.nodes()], dtype=torch.float).view(-1, 1)\n",
    "    avg_neighbor_degrees = torch.tensor([np.mean([nx_graph.degree(neighbor) for neighbor in nx_graph.neighbors(n)]) \n",
    "                                      if nx_graph.degree(n) > 0 else 0 for n in nx_graph.nodes()], dtype=torch.float).view(-1, 1)\n",
    "    \n",
    "    # Combine features\n",
    "    pyg_data.x = torch.cat([degrees, avg_neighbor_degrees, criticality_scores.view(-1, 1)], dim=-1)\n",
    "\n",
    "    return pyg_data"
   ]
  },
  {
   "cell_type": "markdown",
   "id": "6eada6f1",
   "metadata": {
    "papermill": {
     "duration": 0.005458,
     "end_time": "2025-03-17T10:49:22.738494",
     "exception": false,
     "start_time": "2025-03-17T10:49:22.733036",
     "status": "completed"
    },
    "tags": []
   },
   "source": [
    "## Algorithm 2: ILGR Training\n",
    "**Input:** Model with unknown weights.\n",
    "**Output:** Trained model.\n",
    "\n",
    "1. Compute ground truth **criticality scores** of nodes based on graph robustness score.\n",
    "2. **For each epoch do**:\n",
    "   - Get each **node embedding** from the embedding module.\n",
    "   - Estimate **criticality scores** of nodes/links using the regression module.\n",
    "   - Update weights of both modules by solving the loss function:\n",
    "     $$\n",
    "     L_{ij} = -f(r_{ij}) \\log(σ(\\hat{y}_{ij})) - (1 - f(r_{ij})) \\log(1 - σ(\\hat{y}_{ij}))\n",
    "     $$\n",
    "3. **End loop**.\n",
    "4. Predict nodescores on the test graph.\n",
    "5. **Return**: Top $ N\\% $ of most critical nodes.\n"
   ]
  },
  {
   "cell_type": "code",
   "execution_count": 13,
   "id": "f12e621e",
   "metadata": {
    "execution": {
     "iopub.execute_input": "2025-03-17T10:49:22.751020Z",
     "iopub.status.busy": "2025-03-17T10:49:22.750689Z",
     "iopub.status.idle": "2025-03-17T10:49:22.757517Z",
     "shell.execute_reply": "2025-03-17T10:49:22.756327Z"
    },
    "papermill": {
     "duration": 0.015053,
     "end_time": "2025-03-17T10:49:22.759151",
     "exception": false,
     "start_time": "2025-03-17T10:49:22.744098",
     "status": "completed"
    },
    "tags": []
   },
   "outputs": [],
   "source": [
    "def train_model(model, data, y_true, epochs=100, lr=0.001):\n",
    "    optimizer = torch.optim.Adam(model.parameters(), lr=lr)\n",
    "    loss_curve = []  # To store loss values for plotting\n",
    "\n",
    "    for epoch in range(epochs):\n",
    "        model.train()\n",
    "        optimizer.zero_grad()\n",
    "\n",
    "        # Forward pass\n",
    "        y_pred = model(data)\n",
    "\n",
    "        # Compute loss\n",
    "        loss = pairwise_ranking_loss(y_pred, y_true)\n",
    "\n",
    "        # Backward pass and optimization\n",
    "        loss.backward()\n",
    "        optimizer.step()\n",
    "\n",
    "        loss_curve.append(loss.item())  # Store loss for plotting\n",
    "\n",
    "        if (epoch + 1) % 10 == 0:\n",
    "            print(f\"Epoch {epoch+1}, Loss: {loss.item()}\")\n",
    "            accuracy = top_n_accuracy(y_pred, y_true, N=5)\n",
    "            print(f\"Top-5% Accuracy: {accuracy * 100:.2f}%\")\n",
    "\n",
    "    # Plot the loss curve after training\n",
    "    plt.plot(range(epochs), loss_curve)\n",
    "    plt.title('Loss Curve')\n",
    "    plt.xlabel('Epochs')\n",
    "    plt.ylabel('Loss')\n",
    "    plt.show()\n"
   ]
  },
  {
   "cell_type": "markdown",
   "id": "5f33f57a",
   "metadata": {
    "papermill": {
     "duration": 0.005433,
     "end_time": "2025-03-17T10:49:22.770724",
     "exception": false,
     "start_time": "2025-03-17T10:49:22.765291",
     "status": "completed"
    },
    "tags": []
   },
   "source": [
    "### **Evaluation Metrics: Top-N% Accuracy**\n",
    "\n",
    "To measure the accuracy of our framework, we use **Top-N% Accuracy**, which is defined as the percentage of overlap between the predicted Top-N% nodes/links and the ground-truth Top-N% nodes/links (computed using a conventional baseline approach). \n",
    "\n",
    "The formula for **Top-N% Accuracy** is given by:\n",
    "\n",
    "$$\n",
    "\\text{Top-N% Accuracy} = \\frac{\\left| \\{\\text{Predicted Top-N% nodes/links}\\} \\cap \\{\\text{True Top-N% nodes/links}\\} \\right|}{|V| \\times (N/100)}\n",
    "$$\n",
    "\n",
    "where:\n",
    "- $ |V| $ is the total number of nodes/links in the graph.\n",
    "- $ N $ is the percentage band (e.g., Top-5%).\n",
    "- $ \\cap $ denotes the intersection between the predicted and true Top-N% sets.\n"
   ]
  },
  {
   "cell_type": "code",
   "execution_count": 14,
   "id": "2dd50449",
   "metadata": {
    "execution": {
     "iopub.execute_input": "2025-03-17T10:49:22.783485Z",
     "iopub.status.busy": "2025-03-17T10:49:22.783127Z",
     "iopub.status.idle": "2025-03-17T10:49:22.788245Z",
     "shell.execute_reply": "2025-03-17T10:49:22.787400Z"
    },
    "papermill": {
     "duration": 0.013143,
     "end_time": "2025-03-17T10:49:22.789866",
     "exception": false,
     "start_time": "2025-03-17T10:49:22.776723",
     "status": "completed"
    },
    "tags": []
   },
   "outputs": [],
   "source": [
    "def top_n_accuracy(y_pred, y_true, N=5):\n",
    "    num_nodes = len(y_true)\n",
    "    top_n = int(num_nodes * (N / 100))\n",
    "\n",
    "    # Get indices of top N% nodes for predicted and true values\n",
    "    top_pred = torch.argsort(y_pred.squeeze(), descending=True)[:top_n]\n",
    "    top_true = torch.argsort(y_true.squeeze(), descending=True)[:top_n]\n",
    "\n",
    "    # Compute accuracy as percentage of overlap\n",
    "    accuracy = len(set(top_pred.tolist()) & set(top_true.tolist())) / top_n\n",
    "    return accuracy"
   ]
  },
  {
   "cell_type": "markdown",
   "id": "a18c791d",
   "metadata": {
    "papermill": {
     "duration": 0.005551,
     "end_time": "2025-03-17T10:49:22.801664",
     "exception": false,
     "start_time": "2025-03-17T10:49:22.796113",
     "status": "completed"
    },
    "tags": []
   },
   "source": [
    "### **Test the framwork**"
   ]
  },
  {
   "cell_type": "code",
   "execution_count": 15,
   "id": "5662bad0",
   "metadata": {
    "execution": {
     "iopub.execute_input": "2025-03-17T10:49:22.814131Z",
     "iopub.status.busy": "2025-03-17T10:49:22.813815Z",
     "iopub.status.idle": "2025-03-17T10:50:35.399447Z",
     "shell.execute_reply": "2025-03-17T10:50:35.398125Z"
    },
    "papermill": {
     "duration": 72.59379,
     "end_time": "2025-03-17T10:50:35.401111",
     "exception": false,
     "start_time": "2025-03-17T10:49:22.807321",
     "status": "completed"
    },
    "tags": []
   },
   "outputs": [
    {
     "name": "stdout",
     "output_type": "stream",
     "text": [
      "ILGR(\n",
      "  (embedding): ILGRNodeEmbedding(\n",
      "    (conv1): SAGEConv(3, 32, aggr=max)\n",
      "    (conv2): SAGEConv(32, 32, aggr=max)\n",
      "    (conv3): SAGEConv(32, 32, aggr=max)\n",
      "    (attention): MultiheadAttention(\n",
      "      (out_proj): NonDynamicallyQuantizableLinear(in_features=32, out_features=32, bias=True)\n",
      "    )\n",
      "  )\n",
      "  (regression): RegressionModule(\n",
      "    (fc1): Linear(in_features=128, out_features=64, bias=True)\n",
      "    (fc2): Linear(in_features=64, out_features=32, bias=True)\n",
      "    (fc3): Linear(in_features=32, out_features=1, bias=True)\n",
      "  )\n",
      ")\n",
      "Epoch 10, Loss: 0.5810614228248596\n",
      "Top-5% Accuracy: 20.00%\n",
      "Epoch 20, Loss: 0.43745842576026917\n",
      "Top-5% Accuracy: 20.00%\n",
      "Epoch 30, Loss: 0.3117716312408447\n",
      "Top-5% Accuracy: 20.00%\n",
      "Epoch 40, Loss: 0.2234032154083252\n",
      "Top-5% Accuracy: 20.00%\n",
      "Epoch 50, Loss: 0.1852780431509018\n",
      "Top-5% Accuracy: 40.00%\n",
      "Epoch 60, Loss: 0.15334086120128632\n",
      "Top-5% Accuracy: 60.00%\n",
      "Epoch 70, Loss: 0.13167138397693634\n",
      "Top-5% Accuracy: 60.00%\n",
      "Epoch 80, Loss: 0.11068914085626602\n",
      "Top-5% Accuracy: 60.00%\n",
      "Epoch 90, Loss: 0.09434568136930466\n",
      "Top-5% Accuracy: 60.00%\n",
      "Epoch 100, Loss: 0.08571350574493408\n",
      "Top-5% Accuracy: 80.00%\n"
     ]
    },
    {
     "data": {
      "image/png": "[encoded data removed]",
      "text/plain": [
       "<Figure size 640x480 with 1 Axes>"
      ]
     },
     "metadata": {},
     "output_type": "display_data"
    },
    {
     "name": "stdout",
     "output_type": "stream",
     "text": [
      "Top-5% True Node Indices: [2, 96, 36, 47, 37]\n",
      "Top-5% Predicted Node Indices: [2, 96, 89, 47, 37]\n",
      "Top-5% True Criticality Scores: [0.011718896217644215, 0.002635182347148657, 0.0021680097561329603, 0.001749817980453372, 0.001743398024700582]\n",
      "Top-5% Predicted Criticality Scores: [[41.072696685791016], [39.45106887817383], [37.6710205078125], [37.467891693115234], [37.009273529052734]]\n",
      "Top-5% Accuracy: 80.00%\n"
     ]
    }
   ],
   "source": [
    "# Step 1: Generate a power-law graph\n",
    "G = generate_power_law(n=100, m=2)\n",
    "\n",
    "# Step 2: Compute criticality scores\n",
    "y_true = compute_criticality_scores(G, compute_effective_resistance)\n",
    "y_true = torch.tensor(y_true, dtype=torch.float)\n",
    "\n",
    "# Step 3: Convert to PyG format with node features\n",
    "data = nx_to_pyg(G, y_true)\n",
    "\n",
    "# Step 4: Define the model\n",
    "hidden_dim = 32\n",
    "model = ILGR(hidden_dim)\n",
    "print(model)\n",
    "\n",
    "# Step 5: Train the model\n",
    "train_model(model, data, y_true, epochs=100, lr=0.001)\n",
    "\n",
    "# Step 6: Evaluate the model\n",
    "model.eval()\n",
    "y_pred = model(data).detach()  # Ensure no gradients\n",
    "\n",
    "# Evaluate the top-N% nodes based on their criticality scores (true values)\n",
    "top_n = int(len(y_true) * 0.05)  # Top 5% nodes\n",
    "top_n_true_indices = torch.argsort(y_true.squeeze(), descending=True)[:top_n]\n",
    "top_n_pred_indices = torch.argsort(y_pred.squeeze(), descending=True)[:top_n]\n",
    "\n",
    "print(\"Top-5% True Node Indices:\", top_n_true_indices.tolist())\n",
    "print(\"Top-5% Predicted Node Indices:\", top_n_pred_indices.tolist())\n",
    "\n",
    "# Display top-5% criticality scores for both true and predicted values\n",
    "print(\"Top-5% True Criticality Scores:\", y_true[top_n_true_indices].tolist())\n",
    "print(\"Top-5% Predicted Criticality Scores:\", y_pred[top_n_pred_indices].tolist())\n",
    "\n",
    "\n",
    "accuracy = top_n_accuracy(y_pred, y_true, N=5)  # Top-5% accuracy\n",
    "print(f\"Top-5% Accuracy: {accuracy * 100:.2f}%\")"
   ]
  }
 ],
 "metadata": {
  "kaggle": {
   "accelerator": "none",
   "dataSources": [],
   "dockerImageVersionId": 30918,
   "isGpuEnabled": false,
   "isInternetEnabled": true,
   "language": "python",
   "sourceType": "notebook"
  },
  "kernelspec": {
   "display_name": "Python 3",
   "language": "python",
   "name": "python3"
  },
  "language_info": {
   "codemirror_mode": {
    "name": "ipython",
    "version": 3
   },
   "file_extension": ".py",
   "mimetype": "text/x-python",
   "name": "python",
   "nbconvert_exporter": "python",
   "pygments_lexer": "ipython3",
   "version": "3.10.12"
  },
  "papermill": {
   "default_parameters": {},
   "duration": 99.612424,
   "end_time": "2025-03-17T10:50:38.118604",
   "environment_variables": {},
   "exception": null,
   "input_path": "__notebook__.ipynb",
   "output_path": "__notebook__.ipynb",
   "parameters": {},
   "start_time": "2025-03-17T10:48:58.506180",
   "version": "2.6.0"
  }
 },
 "nbformat": 4,
 "nbformat_minor": 5
}
