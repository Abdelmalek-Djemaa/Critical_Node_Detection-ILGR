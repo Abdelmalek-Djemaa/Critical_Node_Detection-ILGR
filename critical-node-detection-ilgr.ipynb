{
 "cells": [
  {
   "cell_type": "code",
   "execution_count": 1,
   "id": "f0ca3222",
   "metadata": {
    "_cell_guid": "b1076dfc-b9ad-4769-8c92-a6c4dae69d19",
    "_uuid": "8f2839f25d086af736a60e9eeb907d3b93b6e0e5",
    "execution": {
     "iopub.execute_input": "2025-03-18T08:59:00.763650Z",
     "iopub.status.busy": "2025-03-18T08:59:00.763408Z",
     "iopub.status.idle": "2025-03-18T08:59:07.287935Z",
     "shell.execute_reply": "2025-03-18T08:59:07.287086Z"
    },
    "papermill": {
     "duration": 6.533124,
     "end_time": "2025-03-18T08:59:07.289620",
     "exception": false,
     "start_time": "2025-03-18T08:59:00.756496",
     "status": "completed"
    },
    "tags": []
   },
   "outputs": [
    {
     "name": "stdout",
     "output_type": "stream",
     "text": [
      "\u001b[2K     \u001b[90m━━━━━━━━━━━━━━━━━━━━━━━━━━━━━━━━━━━━━━━━\u001b[0m \u001b[32m63.1/63.1 kB\u001b[0m \u001b[31m2.1 MB/s\u001b[0m eta \u001b[36m0:00:00\u001b[0m\r\n",
      "\u001b[2K   \u001b[90m━━━━━━━━━━━━━━━━━━━━━━━━━━━━━━━━━━━━━━━━\u001b[0m \u001b[32m1.1/1.1 MB\u001b[0m \u001b[31m20.7 MB/s\u001b[0m eta \u001b[36m0:00:00\u001b[0m\r\n",
      "\u001b[?25h"
     ]
    }
   ],
   "source": [
    "!pip install torch-geometric -q"
   ]
  },
  {
   "cell_type": "markdown",
   "id": "fb96fab8",
   "metadata": {
    "papermill": {
     "duration": 0.004778,
     "end_time": "2025-03-18T08:59:07.299894",
     "exception": false,
     "start_time": "2025-03-18T08:59:07.295116",
     "status": "completed"
    },
    "tags": []
   },
   "source": [
    "## Imports"
   ]
  },
  {
   "cell_type": "code",
   "execution_count": 2,
   "id": "3237cf0b",
   "metadata": {
    "execution": {
     "iopub.execute_input": "2025-03-18T08:59:07.310248Z",
     "iopub.status.busy": "2025-03-18T08:59:07.310020Z",
     "iopub.status.idle": "2025-03-18T08:59:20.131711Z",
     "shell.execute_reply": "2025-03-18T08:59:20.131000Z"
    },
    "papermill": {
     "duration": 12.828629,
     "end_time": "2025-03-18T08:59:20.133294",
     "exception": false,
     "start_time": "2025-03-18T08:59:07.304665",
     "status": "completed"
    },
    "tags": []
   },
   "outputs": [],
   "source": [
    "import numpy as np\n",
    "import torch\n",
    "from torch_geometric.nn import SAGEConv\n",
    "from torch_geometric.data import Data\n",
    "import networkx as nx\n",
    "from torch_geometric.utils import from_networkx\n",
    "import matplotlib.pyplot as plt\n",
    "from tqdm import tqdm"
   ]
  },
  {
   "cell_type": "markdown",
   "id": "437ebb30",
   "metadata": {
    "papermill": {
     "duration": 0.004802,
     "end_time": "2025-03-18T08:59:20.143865",
     "exception": false,
     "start_time": "2025-03-18T08:59:20.139063",
     "status": "completed"
    },
    "tags": []
   },
   "source": [
    "## Graph Robustness Metrics"
   ]
  },
  {
   "cell_type": "markdown",
   "id": "e9d33bf4",
   "metadata": {
    "papermill": {
     "duration": 0.004717,
     "end_time": "2025-03-18T08:59:20.153590",
     "exception": false,
     "start_time": "2025-03-18T08:59:20.148873",
     "status": "completed"
    },
    "tags": []
   },
   "source": [
    "**1. Effective Graph Resistance (EGR)**  \n",
    "   $$\n",
    "   R_g = \\frac{2}{N-1} \\sum_{i=1}^{N-c} \\frac{1}{\\lambda_i}\n",
    "   $$\n",
    "   where $ \\lambda_i $ are the eigenvalues of the Laplacian matrix of the graph."
   ]
  },
  {
   "cell_type": "code",
   "execution_count": 3,
   "id": "8868c56e",
   "metadata": {
    "execution": {
     "iopub.execute_input": "2025-03-18T08:59:20.164207Z",
     "iopub.status.busy": "2025-03-18T08:59:20.163832Z",
     "iopub.status.idle": "2025-03-18T08:59:20.167573Z",
     "shell.execute_reply": "2025-03-18T08:59:20.166836Z"
    },
    "papermill": {
     "duration": 0.010418,
     "end_time": "2025-03-18T08:59:20.168878",
     "exception": false,
     "start_time": "2025-03-18T08:59:20.158460",
     "status": "completed"
    },
    "tags": []
   },
   "outputs": [],
   "source": [
    "def compute_effective_resistance(graph):\n",
    "    laplacian = nx.laplacian_matrix(graph).toarray()\n",
    "    eigenvalues = np.linalg.eigvalsh(laplacian)\n",
    "    eigenvalues = eigenvalues[eigenvalues > 1e-8]  # Avoid zero eigenvalues\n",
    "    N = graph.number_of_nodes()\n",
    "    return (2 / (N - 1)) * np.sum(1 / eigenvalues)"
   ]
  },
  {
   "cell_type": "markdown",
   "id": "1f62fa62",
   "metadata": {
    "papermill": {
     "duration": 0.004706,
     "end_time": "2025-03-18T08:59:20.179617",
     "exception": false,
     "start_time": "2025-03-18T08:59:20.174911",
     "status": "completed"
    },
    "tags": []
   },
   "source": [
    "**2. Weighted Spectrum (WS)**  \n",
    "   $$\n",
    "   W_s = \\sum_i (1 - \\lambda_i)^n\n",
    "   $$\n",
    "   where $ n $ controls the depth of analysis"
   ]
  },
  {
   "cell_type": "code",
   "execution_count": 4,
   "id": "e62cac33",
   "metadata": {
    "execution": {
     "iopub.execute_input": "2025-03-18T08:59:20.190211Z",
     "iopub.status.busy": "2025-03-18T08:59:20.190010Z",
     "iopub.status.idle": "2025-03-18T08:59:20.193488Z",
     "shell.execute_reply": "2025-03-18T08:59:20.192784Z"
    },
    "papermill": {
     "duration": 0.010136,
     "end_time": "2025-03-18T08:59:20.194723",
     "exception": false,
     "start_time": "2025-03-18T08:59:20.184587",
     "status": "completed"
    },
    "tags": []
   },
   "outputs": [],
   "source": [
    "def compute_weighted_spectrum(graph, n=4):\n",
    "    laplacian = nx.normalized_laplacian_matrix(graph).toarray()\n",
    "    eigenvalues = np.linalg.eigvalsh(laplacian)\n",
    "    return np.sum((1 - eigenvalues) ** n)"
   ]
  },
  {
   "cell_type": "markdown",
   "id": "dc47714b",
   "metadata": {
    "papermill": {
     "duration": 0.004783,
     "end_time": "2025-03-18T08:59:20.204348",
     "exception": false,
     "start_time": "2025-03-18T08:59:20.199565",
     "status": "completed"
    },
    "tags": []
   },
   "source": [
    "## Algorithm 1: ILGR Embedding Module\n",
    "**Input:** Graph $ G $, input node features $ X_v $ $ \\forall v \\in V $, unknown model weights $ W $ (combination weights) and $ Q $ (aggregation weights).\n",
    "\n",
    "**Output:** Nodes embedding vector $ z_v $ $ \\forall v \\in V $.\n",
    "\n",
    "**1. Initialize**: $ h^0_v = X_v $ for all $ v \\in V $.\n",
    "**2. For each layer** $ l = 1 $ to $ L $ do:\n",
    "   - For each node $ v = 1 $ to $ V $:\n",
    "     1. Compute neighborhood embedding using attention mechanism:\n",
    "        $$\n",
    "        h^l_{N(v)} = \\text{Attention}(Q^l h^{l-1}_k) \\quad \\forall k \\in N(v)\n",
    "        $$\n",
    "     2. Compute new embedding for node $ v $ using a **skip connection**:\n",
    "        $$\n",
    "        h^l_v = \\text{ReLU} \\left( W^l \\left[ h^{l-1}_v || h^{l-2}_v || h^l_{N(v)} \\right] \\right)\n",
    "        $$\n",
    "**3. Return**: Final embedding vector $ z_v = h^L_v $ for all $ v \\in V $.\n"
   ]
  },
  {
   "cell_type": "code",
   "execution_count": 5,
   "id": "be1623ac",
   "metadata": {
    "execution": {
     "iopub.execute_input": "2025-03-18T08:59:20.215080Z",
     "iopub.status.busy": "2025-03-18T08:59:20.214838Z",
     "iopub.status.idle": "2025-03-18T08:59:20.219875Z",
     "shell.execute_reply": "2025-03-18T08:59:20.219093Z"
    },
    "papermill": {
     "duration": 0.012061,
     "end_time": "2025-03-18T08:59:20.221164",
     "exception": false,
     "start_time": "2025-03-18T08:59:20.209103",
     "status": "completed"
    },
    "tags": []
   },
   "outputs": [],
   "source": [
    "class ILGRNodeEmbedding(torch.nn.Module):\n",
    "    def __init__(self, hidden_channels):\n",
    "        super().__init__()\n",
    "        self.conv1 = SAGEConv(3, hidden_channels, aggr=\"max\")  # 3 input features: degree, avg_neighbor_degree, criticality\n",
    "        self.conv2 = SAGEConv(hidden_channels, hidden_channels, aggr=\"max\")\n",
    "        self.conv3 = SAGEConv(hidden_channels, hidden_channels, aggr=\"max\")\n",
    "        self.attention = torch.nn.MultiheadAttention(hidden_channels, 1)\n",
    "        \n",
    "    def forward(self, x, edge_index):\n",
    "        # Skip connections and attention\n",
    "        h1 = torch.relu(self.conv1(x, edge_index))\n",
    "        h2 = torch.relu(self.conv2(h1, edge_index))\n",
    "        h3 = torch.relu(self.conv3(h2, edge_index))\n",
    "        h, _ = self.attention(h3, h3, h3)\n",
    "        return torch.cat([h1, h2, h3, h], dim=-1)"
   ]
  },
  {
   "cell_type": "markdown",
   "id": "111f925c",
   "metadata": {
    "papermill": {
     "duration": 0.004836,
     "end_time": "2025-03-18T08:59:20.231026",
     "exception": false,
     "start_time": "2025-03-18T08:59:20.226190",
     "status": "completed"
    },
    "tags": []
   },
   "source": [
    "## Regression Module\n",
    "\n",
    "The regression module applies a **non-linear transformation** using multiple layers:\n",
    "\n",
    "$$\n",
    "y_m = f(W_m \\cdot y_{m-1} + b_m)\n",
    "$$\n",
    "\n",
    "where:\n",
    "- $ y_m $ is the output of the $ m^{th} $ layer.\n",
    "- $ W_m $ and $ b_m $ are the **weights** and **biases** of the $ m^{th} $ layer.\n",
    "- $ f $ is an **activation function**\n",
    "- The input to the first layer is the **node embedding**:\n",
    "\n"
   ]
  },
  {
   "cell_type": "code",
   "execution_count": 6,
   "id": "46ef19c1",
   "metadata": {
    "execution": {
     "iopub.execute_input": "2025-03-18T08:59:20.241594Z",
     "iopub.status.busy": "2025-03-18T08:59:20.241393Z",
     "iopub.status.idle": "2025-03-18T08:59:20.245324Z",
     "shell.execute_reply": "2025-03-18T08:59:20.244730Z"
    },
    "papermill": {
     "duration": 0.010405,
     "end_time": "2025-03-18T08:59:20.246450",
     "exception": false,
     "start_time": "2025-03-18T08:59:20.236045",
     "status": "completed"
    },
    "tags": []
   },
   "outputs": [],
   "source": [
    "class RegressionModule(torch.nn.Module):\n",
    "    def __init__(self, input_dim):\n",
    "        super().__init__()\n",
    "        self.fc1 = torch.nn.Linear(input_dim, 64)\n",
    "        self.fc2 = torch.nn.Linear(64, 32)\n",
    "        self.fc3 = torch.nn.Linear(32, 1)\n",
    "        \n",
    "    def forward(self, x):\n",
    "        x = torch.relu(self.fc1(x))\n",
    "        x = torch.relu(self.fc2(x))\n",
    "        return self.fc3(x)"
   ]
  },
  {
   "cell_type": "markdown",
   "id": "4c7777f3",
   "metadata": {
    "papermill": {
     "duration": 0.005398,
     "end_time": "2025-03-18T08:59:20.256873",
     "exception": false,
     "start_time": "2025-03-18T08:59:20.251475",
     "status": "completed"
    },
    "tags": []
   },
   "source": [
    "## Full Model"
   ]
  },
  {
   "cell_type": "code",
   "execution_count": 7,
   "id": "ef5362bb",
   "metadata": {
    "execution": {
     "iopub.execute_input": "2025-03-18T08:59:20.273282Z",
     "iopub.status.busy": "2025-03-18T08:59:20.273012Z",
     "iopub.status.idle": "2025-03-18T08:59:20.277833Z",
     "shell.execute_reply": "2025-03-18T08:59:20.276961Z"
    },
    "papermill": {
     "duration": 0.015564,
     "end_time": "2025-03-18T08:59:20.279312",
     "exception": false,
     "start_time": "2025-03-18T08:59:20.263748",
     "status": "completed"
    },
    "tags": []
   },
   "outputs": [],
   "source": [
    "class ILGR(torch.nn.Module):\n",
    "    def __init__(self, hidden_channels):\n",
    "        super().__init__()\n",
    "        self.embedding = ILGRNodeEmbedding(hidden_channels)\n",
    "        self.regression = RegressionModule(hidden_channels * 4)  # Concatenated embeddings\n",
    "        \n",
    "    def forward(self, data):\n",
    "        x, edge_index = data.x, data.edge_index\n",
    "        embedding = self.embedding(x, edge_index)\n",
    "        return self.regression(embedding)"
   ]
  },
  {
   "cell_type": "markdown",
   "id": "4e0ecab9",
   "metadata": {
    "papermill": {
     "duration": 0.007461,
     "end_time": "2025-03-18T08:59:20.296649",
     "exception": false,
     "start_time": "2025-03-18T08:59:20.289188",
     "status": "completed"
    },
    "tags": []
   },
   "source": [
    "### Criticality Score Calculation"
   ]
  },
  {
   "cell_type": "markdown",
   "id": "933d04fe",
   "metadata": {
    "papermill": {
     "duration": 0.006588,
     "end_time": "2025-03-18T08:59:20.309689",
     "exception": false,
     "start_time": "2025-03-18T08:59:20.303101",
     "status": "completed"
    },
    "tags": []
   },
   "source": [
    "### Algorithm 3: Conventional Approach for Identifying Critical Nodes/Links\n",
    "**Input:** Graph $ G $ with $ V $ nodes.\n",
    "**Output:** Node critical scores.\n",
    "\n",
    "**1. For each node/link** $ n $ in $ V $:\n",
    "   - Remove node $ n $ from the graph $ G $.\n",
    "   - Compute robustness metric of the **residual graph** $ (G - n) $.\n",
    "   - Assign a **criticality score** to node $ n $.\n",
    "\n",
    "**2. End loop**.\n",
    "\n",
    "3. Rank nodes based on computed **criticality scores**.\n",
    "4. Top ranks correspond to the **most critical nodes**.\n",
    "**5. Return**: Top $ N\\% $ of most critical nodes."
   ]
  },
  {
   "cell_type": "code",
   "execution_count": 8,
   "id": "70fb108c",
   "metadata": {
    "execution": {
     "iopub.execute_input": "2025-03-18T08:59:20.320876Z",
     "iopub.status.busy": "2025-03-18T08:59:20.320458Z",
     "iopub.status.idle": "2025-03-18T08:59:20.327890Z",
     "shell.execute_reply": "2025-03-18T08:59:20.326824Z"
    },
    "papermill": {
     "duration": 0.014849,
     "end_time": "2025-03-18T08:59:20.329583",
     "exception": false,
     "start_time": "2025-03-18T08:59:20.314734",
     "status": "completed"
    },
    "tags": []
   },
   "outputs": [],
   "source": [
    "def compute_criticality_scores(graph, metric):\n",
    "    scores = []\n",
    "    for node in tqdm(graph.nodes(), desc=\"Computing Criticality Scores\"):\n",
    "        subgraph = graph.copy()\n",
    "        subgraph.remove_node(node)\n",
    "        score = metric(graph) - metric(subgraph)  # Drop in robustness\n",
    "        scores.append(score)\n",
    "    return scores"
   ]
  },
  {
   "cell_type": "markdown",
   "id": "23094a55",
   "metadata": {
    "papermill": {
     "duration": 0.004612,
     "end_time": "2025-03-18T08:59:20.341719",
     "exception": false,
     "start_time": "2025-03-18T08:59:20.337107",
     "status": "completed"
    },
    "tags": []
   },
   "source": [
    "### Ranking Loss\n",
    "$$\n",
    "     L_{ij} = -f(r_{ij}) \\log(σ(\\hat{y}_{ij})) - (1 - f(r_{ij})) \\log(1 - σ(\\hat{y}_{ij}))\n",
    "     $$"
   ]
  },
  {
   "cell_type": "code",
   "execution_count": 9,
   "id": "8d7d5813",
   "metadata": {
    "execution": {
     "iopub.execute_input": "2025-03-18T08:59:20.352538Z",
     "iopub.status.busy": "2025-03-18T08:59:20.352292Z",
     "iopub.status.idle": "2025-03-18T08:59:20.356607Z",
     "shell.execute_reply": "2025-03-18T08:59:20.355957Z"
    },
    "papermill": {
     "duration": 0.011284,
     "end_time": "2025-03-18T08:59:20.357802",
     "exception": false,
     "start_time": "2025-03-18T08:59:20.346518",
     "status": "completed"
    },
    "tags": []
   },
   "outputs": [],
   "source": [
    "def pairwise_ranking_loss(y_pred, y_true):\n",
    "    # Compare all pairs of nodes\n",
    "    loss = 0\n",
    "    for i in range(len(y_true)):\n",
    "        for j in range(i+1, len(y_true)):\n",
    "            if y_true[i] > y_true[j]:\n",
    "                loss += torch.log(1 + torch.exp(-(y_pred[i] - y_pred[j])))\n",
    "            elif y_true[i] < y_true[j]:\n",
    "                loss += torch.log(1 + torch.exp(y_pred[i] - y_pred[j]))\n",
    "    return loss / (len(y_true) * (len(y_true)-1) / 2)"
   ]
  },
  {
   "cell_type": "markdown",
   "id": "15696ee5",
   "metadata": {
    "papermill": {
     "duration": 0.0045,
     "end_time": "2025-03-18T08:59:20.367017",
     "exception": false,
     "start_time": "2025-03-18T08:59:20.362517",
     "status": "completed"
    },
    "tags": []
   },
   "source": [
    "## Graph Preprocessing"
   ]
  },
  {
   "cell_type": "markdown",
   "id": "9e5dd2ee",
   "metadata": {
    "papermill": {
     "duration": 0.004412,
     "end_time": "2025-03-18T08:59:20.376248",
     "exception": false,
     "start_time": "2025-03-18T08:59:20.371836",
     "status": "completed"
    },
    "tags": []
   },
   "source": [
    "### Generate Synthetic Graphs"
   ]
  },
  {
   "cell_type": "code",
   "execution_count": 10,
   "id": "d257f7ff",
   "metadata": {
    "execution": {
     "iopub.execute_input": "2025-03-18T08:59:20.386262Z",
     "iopub.status.busy": "2025-03-18T08:59:20.386044Z",
     "iopub.status.idle": "2025-03-18T08:59:20.389584Z",
     "shell.execute_reply": "2025-03-18T08:59:20.388790Z"
    },
    "papermill": {
     "duration": 0.009936,
     "end_time": "2025-03-18T08:59:20.390816",
     "exception": false,
     "start_time": "2025-03-18T08:59:20.380880",
     "status": "completed"
    },
    "tags": []
   },
   "outputs": [],
   "source": [
    "# Power-law graph (Barabási-Albert model)\n",
    "def generate_power_law(n, m):\n",
    "    return nx.barabasi_albert_graph(n, m)\n",
    "\n",
    "# Power-law cluster graph (Holme-Kim model)\n",
    "def generate_power_law_cluster(n, m, p):\n",
    "    return nx.powerlaw_cluster_graph(n, m, p)"
   ]
  },
  {
   "cell_type": "markdown",
   "id": "9181e81e",
   "metadata": {
    "papermill": {
     "duration": 0.004614,
     "end_time": "2025-03-18T08:59:20.400084",
     "exception": false,
     "start_time": "2025-03-18T08:59:20.395470",
     "status": "completed"
    },
    "tags": []
   },
   "source": [
    "### real-world datasets (load function)"
   ]
  },
  {
   "cell_type": "code",
   "execution_count": 11,
   "id": "931ce14d",
   "metadata": {
    "execution": {
     "iopub.execute_input": "2025-03-18T08:59:20.410683Z",
     "iopub.status.busy": "2025-03-18T08:59:20.410431Z",
     "iopub.status.idle": "2025-03-18T08:59:20.413771Z",
     "shell.execute_reply": "2025-03-18T08:59:20.413071Z"
    },
    "papermill": {
     "duration": 0.010011,
     "end_time": "2025-03-18T08:59:20.414950",
     "exception": false,
     "start_time": "2025-03-18T08:59:20.404939",
     "status": "completed"
    },
    "tags": []
   },
   "outputs": [],
   "source": [
    "def load_real_world_graph(dataset_name):\n",
    "    G = nx.read_edgelist(dataset_name, nodetype=int)\n",
    "    return G"
   ]
  },
  {
   "cell_type": "markdown",
   "id": "800d57ca",
   "metadata": {
    "papermill": {
     "duration": 0.004785,
     "end_time": "2025-03-18T08:59:20.424614",
     "exception": false,
     "start_time": "2025-03-18T08:59:20.419829",
     "status": "completed"
    },
    "tags": []
   },
   "source": [
    "### Convert NetworkX graph to PyTorch Geometric format"
   ]
  },
  {
   "cell_type": "code",
   "execution_count": 12,
   "id": "d510d3c0",
   "metadata": {
    "execution": {
     "iopub.execute_input": "2025-03-18T08:59:20.435063Z",
     "iopub.status.busy": "2025-03-18T08:59:20.434872Z",
     "iopub.status.idle": "2025-03-18T08:59:20.439242Z",
     "shell.execute_reply": "2025-03-18T08:59:20.438650Z"
    },
    "papermill": {
     "duration": 0.010729,
     "end_time": "2025-03-18T08:59:20.440349",
     "exception": false,
     "start_time": "2025-03-18T08:59:20.429620",
     "status": "completed"
    },
    "tags": []
   },
   "outputs": [],
   "source": [
    "def nx_to_pyg(nx_graph, criticality_scores):\n",
    "    # Convert NetworkX graph to PyG format\n",
    "    pyg_data = from_networkx(nx_graph)\n",
    "\n",
    "    # Compute node features: degree, average neighbor degree, etc.\n",
    "    degrees = torch.tensor([nx_graph.degree(n) for n in nx_graph.nodes()], dtype=torch.float).view(-1, 1)\n",
    "    avg_neighbor_degrees = torch.tensor([np.mean([nx_graph.degree(neighbor) for neighbor in nx_graph.neighbors(n)]) \n",
    "                                      if nx_graph.degree(n) > 0 else 0 for n in nx_graph.nodes()], dtype=torch.float).view(-1, 1)\n",
    "    \n",
    "    # Combine features\n",
    "    pyg_data.x = torch.cat([degrees, avg_neighbor_degrees, criticality_scores.view(-1, 1)], dim=-1)\n",
    "\n",
    "    return pyg_data"
   ]
  },
  {
   "cell_type": "markdown",
   "id": "a5fdc4a4",
   "metadata": {
    "papermill": {
     "duration": 0.004702,
     "end_time": "2025-03-18T08:59:20.449905",
     "exception": false,
     "start_time": "2025-03-18T08:59:20.445203",
     "status": "completed"
    },
    "tags": []
   },
   "source": [
    "## Algorithm 2: ILGR Training\n",
    "**Input:** Model with unknown weights.\n",
    "**Output:** Trained model.\n",
    "\n",
    "1. Compute ground truth **criticality scores** of nodes based on graph robustness score.\n",
    "2. **For each epoch do**:\n",
    "   - Get each **node embedding** from the embedding module.\n",
    "   - Estimate **criticality scores** of nodes/links using the regression module.\n",
    "   - Update weights of both modules by solving the loss function:\n",
    "     $$\n",
    "     L_{ij} = -f(r_{ij}) \\log(σ(\\hat{y}_{ij})) - (1 - f(r_{ij})) \\log(1 - σ(\\hat{y}_{ij}))\n",
    "     $$\n",
    "3. **End loop**.\n",
    "4. Predict nodescores on the test graph.\n",
    "5. **Return**: Top $ N\\% $ of most critical nodes.\n"
   ]
  },
  {
   "cell_type": "code",
   "execution_count": 13,
   "id": "717f59dc",
   "metadata": {
    "execution": {
     "iopub.execute_input": "2025-03-18T08:59:20.459840Z",
     "iopub.status.busy": "2025-03-18T08:59:20.459646Z",
     "iopub.status.idle": "2025-03-18T08:59:20.465004Z",
     "shell.execute_reply": "2025-03-18T08:59:20.464416Z"
    },
    "papermill": {
     "duration": 0.011537,
     "end_time": "2025-03-18T08:59:20.466053",
     "exception": false,
     "start_time": "2025-03-18T08:59:20.454516",
     "status": "completed"
    },
    "tags": []
   },
   "outputs": [],
   "source": [
    "import torch\n",
    "import matplotlib.pyplot as plt\n",
    "from tqdm import tqdm\n",
    "\n",
    "def train_model(model, data, y_true, epochs=100, lr=0.001):\n",
    "    device = torch.device(\"cuda\" if torch.cuda.is_available() else \"cpu\")\n",
    "    model.to(device)\n",
    "    data, y_true = data.to(device), y_true.to(device)\n",
    "    \n",
    "    optimizer = torch.optim.Adam(model.parameters(), lr=lr)\n",
    "    loss_curve = []  # To store loss values for plotting\n",
    "\n",
    "    progress_bar = tqdm(range(epochs), desc=\"Training Model\", dynamic_ncols=True)\n",
    "    \n",
    "    for epoch in progress_bar:\n",
    "        model.train()\n",
    "        optimizer.zero_grad()\n",
    "\n",
    "        # Forward pass\n",
    "        y_pred = model(data)\n",
    "\n",
    "        # Compute loss\n",
    "        loss = pairwise_ranking_loss(y_pred, y_true)\n",
    "\n",
    "        # Backward pass and optimization\n",
    "        loss.backward()\n",
    "        optimizer.step()\n",
    "\n",
    "        loss_curve.append(loss.item())  # Store loss for plotting\n",
    "        \n",
    "        # Update progress bar with loss value\n",
    "        progress_bar.set_postfix(loss=loss.item())\n",
    "\n",
    "    # Plot the loss curve after training\n",
    "    plt.plot(range(epochs), loss_curve)\n",
    "    plt.title('Loss Curve')\n",
    "    plt.xlabel('Epochs')\n",
    "    plt.ylabel('Loss')\n",
    "    plt.show()\n"
   ]
  },
  {
   "cell_type": "markdown",
   "id": "2ace8723",
   "metadata": {
    "papermill": {
     "duration": 0.004456,
     "end_time": "2025-03-18T08:59:20.475327",
     "exception": false,
     "start_time": "2025-03-18T08:59:20.470871",
     "status": "completed"
    },
    "tags": []
   },
   "source": [
    "### **Evaluation Metrics: Top-N% Accuracy**\n",
    "\n",
    "To measure the accuracy of our framework, we use **Top-N% Accuracy**, which is defined as the percentage of overlap between the predicted Top-N% nodes/links and the ground-truth Top-N% nodes/links (computed using a conventional baseline approach). \n",
    "\n",
    "The formula for **Top-N% Accuracy** is given by:\n",
    "\n",
    "$$\n",
    "\\text{Top-N% Accuracy} = \\frac{\\left| \\{\\text{Predicted Top-N% nodes/links}\\} \\cap \\{\\text{True Top-N% nodes/links}\\} \\right|}{|V| \\times (N/100)}\n",
    "$$\n",
    "\n",
    "where:\n",
    "- $ |V| $ is the total number of nodes/links in the graph.\n",
    "- $ N $ is the percentage band (e.g., Top-5%).\n",
    "- $ \\cap $ denotes the intersection between the predicted and true Top-N% sets.\n"
   ]
  },
  {
   "cell_type": "code",
   "execution_count": 14,
   "id": "3ea06363",
   "metadata": {
    "execution": {
     "iopub.execute_input": "2025-03-18T08:59:20.485779Z",
     "iopub.status.busy": "2025-03-18T08:59:20.485574Z",
     "iopub.status.idle": "2025-03-18T08:59:20.489641Z",
     "shell.execute_reply": "2025-03-18T08:59:20.488957Z"
    },
    "papermill": {
     "duration": 0.010807,
     "end_time": "2025-03-18T08:59:20.490916",
     "exception": false,
     "start_time": "2025-03-18T08:59:20.480109",
     "status": "completed"
    },
    "tags": []
   },
   "outputs": [],
   "source": [
    "def top_n_accuracy(y_pred, y_true, N=5):\n",
    "    num_nodes = len(y_true)\n",
    "    top_n = int(num_nodes * (N / 100))\n",
    "\n",
    "    # Get indices of top N% nodes for predicted and true values\n",
    "    top_pred = torch.argsort(y_pred.squeeze(), descending=True)[:top_n]\n",
    "    top_true = torch.argsort(y_true.squeeze(), descending=True)[:top_n]\n",
    "\n",
    "    # Compute accuracy as percentage of overlap\n",
    "    accuracy = len(set(top_pred.tolist()) & set(top_true.tolist())) / top_n\n",
    "    return accuracy"
   ]
  },
  {
   "cell_type": "markdown",
   "id": "723b6ed3",
   "metadata": {
    "papermill": {
     "duration": 0.004782,
     "end_time": "2025-03-18T08:59:20.500694",
     "exception": false,
     "start_time": "2025-03-18T08:59:20.495912",
     "status": "completed"
    },
    "tags": []
   },
   "source": [
    "### **Test the framwork**"
   ]
  },
  {
   "cell_type": "markdown",
   "id": "dbd21932",
   "metadata": {
    "papermill": {
     "duration": 0.004922,
     "end_time": "2025-03-18T08:59:20.510495",
     "exception": false,
     "start_time": "2025-03-18T08:59:20.505573",
     "status": "completed"
    },
    "tags": []
   },
   "source": [
    "### 100 nodes (power-law graph)"
   ]
  },
  {
   "cell_type": "code",
   "execution_count": 15,
   "id": "4dcc76ad",
   "metadata": {
    "execution": {
     "iopub.execute_input": "2025-03-18T08:59:20.521126Z",
     "iopub.status.busy": "2025-03-18T08:59:20.520921Z",
     "iopub.status.idle": "2025-03-18T09:01:31.330787Z",
     "shell.execute_reply": "2025-03-18T09:01:31.329876Z"
    },
    "papermill": {
     "duration": 130.816569,
     "end_time": "2025-03-18T09:01:31.332123",
     "exception": false,
     "start_time": "2025-03-18T08:59:20.515554",
     "status": "completed"
    },
    "tags": []
   },
   "outputs": [
    {
     "name": "stderr",
     "output_type": "stream",
     "text": [
      "Computing Criticality Scores: 100%|██████████| 100/100 [00:00<00:00, 104.47it/s]\n"
     ]
    },
    {
     "name": "stdout",
     "output_type": "stream",
     "text": [
      "ILGR(\n",
      "  (embedding): ILGRNodeEmbedding(\n",
      "    (conv1): SAGEConv(3, 32, aggr=max)\n",
      "    (conv2): SAGEConv(32, 32, aggr=max)\n",
      "    (conv3): SAGEConv(32, 32, aggr=max)\n",
      "    (attention): MultiheadAttention(\n",
      "      (out_proj): NonDynamicallyQuantizableLinear(in_features=32, out_features=32, bias=True)\n",
      "    )\n",
      "  )\n",
      "  (regression): RegressionModule(\n",
      "    (fc1): Linear(in_features=128, out_features=64, bias=True)\n",
      "    (fc2): Linear(in_features=64, out_features=32, bias=True)\n",
      "    (fc3): Linear(in_features=32, out_features=1, bias=True)\n",
      "  )\n",
      ")\n"
     ]
    },
    {
     "name": "stderr",
     "output_type": "stream",
     "text": [
      "Training Model:   0%|          | 0/100 [00:00<?, ?it/s]/usr/local/lib/python3.10/dist-packages/torch_geometric/warnings.py:11: UserWarning: The usage of `scatter(reduce='max')` can be accelerated via the 'torch-scatter' package, but it was not found\n",
      "  warnings.warn(message)\n",
      "Training Model: 100%|██████████| 100/100 [02:09<00:00,  1.29s/it, loss=0.137]\n"
     ]
    },
    {
     "data": {
      "image/png": "[encoded data removed]",
      "text/plain": [
       "<Figure size 640x480 with 1 Axes>"
      ]
     },
     "metadata": {},
     "output_type": "display_data"
    },
    {
     "name": "stdout",
     "output_type": "stream",
     "text": [
      "Top-5% True Node Indices: [76, 56, 96, 94, 62]\n",
      "Top-5% Predicted Node Indices: [62, 96, 95, 51, 13]\n",
      "Top-5% True Criticality Scores: [0.004066177643835545, 0.0018530003726482391, 0.0016992137534543872, 0.0010126971174031496, 0.0009548278758302331]\n",
      "Top-5% Predicted Criticality Scores: [[6.031282901763916], [5.342705249786377], [5.1612372398376465], [5.041201114654541], [4.982754230499268]]\n",
      "Top-5% Accuracy: 40.00%\n"
     ]
    }
   ],
   "source": [
    "# Step 1: Generate a power-law graph\n",
    "G = generate_power_law(n=100, m=2)\n",
    "\n",
    "# Step 2: Compute criticality scores\n",
    "y_true = compute_criticality_scores(G, compute_effective_resistance)\n",
    "y_true = torch.tensor(y_true, dtype=torch.float)\n",
    "\n",
    "# Step 3: Convert to PyG format with node features\n",
    "data = nx_to_pyg(G, y_true)\n",
    "\n",
    "# Step 4: Define the model\n",
    "hidden_dim = 32\n",
    "model = ILGR(hidden_dim)\n",
    "print(model)\n",
    "\n",
    "# Step 5: Train the model\n",
    "train_model(model, data, y_true, epochs=100, lr=0.001)\n",
    "\n",
    "# Step 6: Evaluate the model\n",
    "model.eval()\n",
    "y_pred = model(data).detach()  # Ensure no gradients\n",
    "\n",
    "# Evaluate the top-N% nodes based on their criticality scores (true values)\n",
    "top_n = int(len(y_true) * 0.05)  # Top 5% nodes\n",
    "top_n_true_indices = torch.argsort(y_true.squeeze(), descending=True)[:top_n]\n",
    "top_n_pred_indices = torch.argsort(y_pred.squeeze(), descending=True)[:top_n]\n",
    "\n",
    "print(\"Top-5% True Node Indices:\", top_n_true_indices.tolist())\n",
    "print(\"Top-5% Predicted Node Indices:\", top_n_pred_indices.tolist())\n",
    "\n",
    "# Display top-5% criticality scores for both true and predicted values\n",
    "print(\"Top-5% True Criticality Scores:\", y_true[top_n_true_indices].tolist())\n",
    "print(\"Top-5% Predicted Criticality Scores:\", y_pred[top_n_pred_indices].tolist())\n",
    "\n",
    "\n",
    "accuracy = top_n_accuracy(y_pred, y_true, N=5)  # Top-5% accuracy\n",
    "print(f\"Top-5% Accuracy: {accuracy * 100:.2f}%\")"
   ]
  },
  {
   "cell_type": "code",
   "execution_count": null,
   "id": "dcb8d60f",
   "metadata": {
    "papermill": {
     "duration": 0.014082,
     "end_time": "2025-03-18T09:01:31.361017",
     "exception": false,
     "start_time": "2025-03-18T09:01:31.346935",
     "status": "completed"
    },
    "tags": []
   },
   "outputs": [],
   "source": []
  }
 ],
 "metadata": {
  "kaggle": {
   "accelerator": "nvidiaTeslaT4",
   "dataSources": [],
   "dockerImageVersionId": 30918,
   "isGpuEnabled": true,
   "isInternetEnabled": true,
   "language": "python",
   "sourceType": "notebook"
  },
  "kernelspec": {
   "display_name": "Python 3",
   "language": "python",
   "name": "python3"
  },
  "language_info": {
   "codemirror_mode": {
    "name": "ipython",
    "version": 3
   },
   "file_extension": ".py",
   "mimetype": "text/x-python",
   "name": "python",
   "nbconvert_exporter": "python",
   "pygments_lexer": "ipython3",
   "version": "3.10.12"
  },
  "papermill": {
   "default_parameters": {},
   "duration": 155.992731,
   "end_time": "2025-03-18T09:01:33.297158",
   "environment_variables": {},
   "exception": null,
   "input_path": "__notebook__.ipynb",
   "output_path": "__notebook__.ipynb",
   "parameters": {},
   "start_time": "2025-03-18T08:58:57.304427",
   "version": "2.6.0"
  }
 },
 "nbformat": 4,
 "nbformat_minor": 5
}
