{
 "cells": [
  {
   "cell_type": "code",
   "execution_count": 1,
   "id": "56c4a46b",
   "metadata": {
    "_cell_guid": "b1076dfc-b9ad-4769-8c92-a6c4dae69d19",
    "_uuid": "8f2839f25d086af736a60e9eeb907d3b93b6e0e5",
    "execution": {
     "iopub.execute_input": "2025-03-18T09:40:49.563754Z",
     "iopub.status.busy": "2025-03-18T09:40:49.563440Z",
     "iopub.status.idle": "2025-03-18T09:40:55.363781Z",
     "shell.execute_reply": "2025-03-18T09:40:55.362785Z"
    },
    "papermill": {
     "duration": 5.809188,
     "end_time": "2025-03-18T09:40:55.365589",
     "exception": false,
     "start_time": "2025-03-18T09:40:49.556401",
     "status": "completed"
    },
    "tags": []
   },
   "outputs": [
    {
     "name": "stdout",
     "output_type": "stream",
     "text": [
      "\u001b[2K     \u001b[90m━━━━━━━━━━━━━━━━━━━━━━━━━━━━━━━━━━━━━━━━\u001b[0m \u001b[32m63.1/63.1 kB\u001b[0m \u001b[31m2.6 MB/s\u001b[0m eta \u001b[36m0:00:00\u001b[0m\r\n",
      "\u001b[2K   \u001b[90m━━━━━━━━━━━━━━━━━━━━━━━━━━━━━━━━━━━━━━━━\u001b[0m \u001b[32m1.1/1.1 MB\u001b[0m \u001b[31m23.0 MB/s\u001b[0m eta \u001b[36m0:00:00\u001b[0m\r\n",
      "\u001b[?25h"
     ]
    }
   ],
   "source": [
    "!pip install torch-geometric -q"
   ]
  },
  {
   "cell_type": "markdown",
   "id": "683934a6",
   "metadata": {
    "papermill": {
     "duration": 0.005051,
     "end_time": "2025-03-18T09:40:55.376631",
     "exception": false,
     "start_time": "2025-03-18T09:40:55.371580",
     "status": "completed"
    },
    "tags": []
   },
   "source": [
    "## Imports"
   ]
  },
  {
   "cell_type": "code",
   "execution_count": 2,
   "id": "4b87298d",
   "metadata": {
    "execution": {
     "iopub.execute_input": "2025-03-18T09:40:55.388256Z",
     "iopub.status.busy": "2025-03-18T09:40:55.387884Z",
     "iopub.status.idle": "2025-03-18T09:41:05.833741Z",
     "shell.execute_reply": "2025-03-18T09:41:05.832776Z"
    },
    "papermill": {
     "duration": 10.453432,
     "end_time": "2025-03-18T09:41:05.835333",
     "exception": false,
     "start_time": "2025-03-18T09:40:55.381901",
     "status": "completed"
    },
    "tags": []
   },
   "outputs": [],
   "source": [
    "import numpy as np\n",
    "import torch\n",
    "from torch_geometric.nn import SAGEConv\n",
    "from torch_geometric.data import Data\n",
    "import networkx as nx\n",
    "from torch_geometric.utils import from_networkx\n",
    "import matplotlib.pyplot as plt\n",
    "from tqdm import tqdm"
   ]
  },
  {
   "cell_type": "markdown",
   "id": "579268d5",
   "metadata": {
    "papermill": {
     "duration": 0.005041,
     "end_time": "2025-03-18T09:41:05.846096",
     "exception": false,
     "start_time": "2025-03-18T09:41:05.841055",
     "status": "completed"
    },
    "tags": []
   },
   "source": [
    "## Graph Robustness Metrics"
   ]
  },
  {
   "cell_type": "markdown",
   "id": "aad739e1",
   "metadata": {
    "papermill": {
     "duration": 0.004799,
     "end_time": "2025-03-18T09:41:05.856192",
     "exception": false,
     "start_time": "2025-03-18T09:41:05.851393",
     "status": "completed"
    },
    "tags": []
   },
   "source": [
    "**1. Effective Graph Resistance (EGR)**  \n",
    "   $$\n",
    "   R_g = \\frac{2}{N-1} \\sum_{i=1}^{N-c} \\frac{1}{\\lambda_i}\n",
    "   $$\n",
    "   where $ \\lambda_i $ are the eigenvalues of the Laplacian matrix of the graph."
   ]
  },
  {
   "cell_type": "code",
   "execution_count": 3,
   "id": "276e2575",
   "metadata": {
    "execution": {
     "iopub.execute_input": "2025-03-18T09:41:05.867337Z",
     "iopub.status.busy": "2025-03-18T09:41:05.866855Z",
     "iopub.status.idle": "2025-03-18T09:41:05.871317Z",
     "shell.execute_reply": "2025-03-18T09:41:05.870345Z"
    },
    "papermill": {
     "duration": 0.011381,
     "end_time": "2025-03-18T09:41:05.872669",
     "exception": false,
     "start_time": "2025-03-18T09:41:05.861288",
     "status": "completed"
    },
    "tags": []
   },
   "outputs": [],
   "source": [
    "def compute_effective_resistance(graph):\n",
    "    laplacian = nx.laplacian_matrix(graph).toarray()\n",
    "    eigenvalues = np.linalg.eigvalsh(laplacian)\n",
    "    eigenvalues = eigenvalues[eigenvalues > 1e-8]  # Avoid zero eigenvalues\n",
    "    N = graph.number_of_nodes()\n",
    "    return (2 / (N - 1)) * np.sum(1 / eigenvalues)"
   ]
  },
  {
   "cell_type": "markdown",
   "id": "dd8666f0",
   "metadata": {
    "papermill": {
     "duration": 0.004868,
     "end_time": "2025-03-18T09:41:05.882734",
     "exception": false,
     "start_time": "2025-03-18T09:41:05.877866",
     "status": "completed"
    },
    "tags": []
   },
   "source": [
    "**2. Weighted Spectrum (WS)**  \n",
    "   $$\n",
    "   W_s = \\sum_i (1 - \\lambda_i)^n\n",
    "   $$\n",
    "   where $ n $ controls the depth of analysis"
   ]
  },
  {
   "cell_type": "code",
   "execution_count": 4,
   "id": "f826e577",
   "metadata": {
    "execution": {
     "iopub.execute_input": "2025-03-18T09:41:05.893485Z",
     "iopub.status.busy": "2025-03-18T09:41:05.893252Z",
     "iopub.status.idle": "2025-03-18T09:41:05.896759Z",
     "shell.execute_reply": "2025-03-18T09:41:05.895986Z"
    },
    "papermill": {
     "duration": 0.01042,
     "end_time": "2025-03-18T09:41:05.898134",
     "exception": false,
     "start_time": "2025-03-18T09:41:05.887714",
     "status": "completed"
    },
    "tags": []
   },
   "outputs": [],
   "source": [
    "def compute_weighted_spectrum(graph, n=4):\n",
    "    laplacian = nx.normalized_laplacian_matrix(graph).toarray()\n",
    "    eigenvalues = np.linalg.eigvalsh(laplacian)\n",
    "    return np.sum((1 - eigenvalues) ** n)"
   ]
  },
  {
   "cell_type": "markdown",
   "id": "f2cfa6d3",
   "metadata": {
    "papermill": {
     "duration": 0.004879,
     "end_time": "2025-03-18T09:41:05.908191",
     "exception": false,
     "start_time": "2025-03-18T09:41:05.903312",
     "status": "completed"
    },
    "tags": []
   },
   "source": [
    "## Algorithm 1: ILGR Embedding Module\n",
    "**Input:** Graph $ G $, input node features $ X_v $ $ \\forall v \\in V $, unknown model weights $ W $ (combination weights) and $ Q $ (aggregation weights).\n",
    "\n",
    "**Output:** Nodes embedding vector $ z_v $ $ \\forall v \\in V $.\n",
    "\n",
    "**1. Initialize**: $ h^0_v = X_v $ for all $ v \\in V $.\n",
    "**2. For each layer** $ l = 1 $ to $ L $ do:\n",
    "   - For each node $ v = 1 $ to $ V $:\n",
    "     1. Compute neighborhood embedding using attention mechanism:\n",
    "        $$\n",
    "        h^l_{N(v)} = \\text{Attention}(Q^l h^{l-1}_k) \\quad \\forall k \\in N(v)\n",
    "        $$\n",
    "     2. Compute new embedding for node $ v $ using a **skip connection**:\n",
    "        $$\n",
    "        h^l_v = \\text{ReLU} \\left( W^l \\left[ h^{l-1}_v || h^{l-2}_v || h^l_{N(v)} \\right] \\right)\n",
    "        $$\n",
    "**3. Return**: Final embedding vector $ z_v = h^L_v $ for all $ v \\in V $.\n"
   ]
  },
  {
   "cell_type": "code",
   "execution_count": 5,
   "id": "3e7bdbe0",
   "metadata": {
    "execution": {
     "iopub.execute_input": "2025-03-18T09:41:05.918727Z",
     "iopub.status.busy": "2025-03-18T09:41:05.918503Z",
     "iopub.status.idle": "2025-03-18T09:41:05.923346Z",
     "shell.execute_reply": "2025-03-18T09:41:05.922567Z"
    },
    "papermill": {
     "duration": 0.011557,
     "end_time": "2025-03-18T09:41:05.924640",
     "exception": false,
     "start_time": "2025-03-18T09:41:05.913083",
     "status": "completed"
    },
    "tags": []
   },
   "outputs": [],
   "source": [
    "class ILGRNodeEmbedding(torch.nn.Module):\n",
    "    def __init__(self, hidden_channels):\n",
    "        super().__init__()\n",
    "        self.conv1 = SAGEConv(3, hidden_channels)  # 3 input features: degree, avg_neighbor_degree, criticality\n",
    "        self.conv2 = SAGEConv(hidden_channels, hidden_channels)\n",
    "        self.conv3 = SAGEConv(hidden_channels, hidden_channels)\n",
    "        self.attention = torch.nn.MultiheadAttention(hidden_channels, 1)\n",
    "        \n",
    "    def forward(self, x, edge_index):\n",
    "        # Skip connections and attention\n",
    "        h1 = torch.relu(self.conv1(x, edge_index))\n",
    "        h2 = torch.relu(self.conv2(h1, edge_index))\n",
    "        h3 = torch.relu(self.conv3(h2, edge_index))\n",
    "        h, _ = self.attention(h3, h3, h3)\n",
    "        return torch.cat([h1, h2, h3, h], dim=-1)"
   ]
  },
  {
   "cell_type": "markdown",
   "id": "b93ae8f7",
   "metadata": {
    "papermill": {
     "duration": 0.004845,
     "end_time": "2025-03-18T09:41:05.934599",
     "exception": false,
     "start_time": "2025-03-18T09:41:05.929754",
     "status": "completed"
    },
    "tags": []
   },
   "source": [
    "## Regression Module\n",
    "\n",
    "The regression module applies a **non-linear transformation** using multiple layers:\n",
    "\n",
    "$$\n",
    "y_m = f(W_m \\cdot y_{m-1} + b_m)\n",
    "$$\n",
    "\n",
    "where:\n",
    "- $ y_m $ is the output of the $ m^{th} $ layer.\n",
    "- $ W_m $ and $ b_m $ are the **weights** and **biases** of the $ m^{th} $ layer.\n",
    "- $ f $ is an **activation function**\n",
    "- The input to the first layer is the **node embedding**:\n",
    "\n"
   ]
  },
  {
   "cell_type": "code",
   "execution_count": 6,
   "id": "f1ea0bd1",
   "metadata": {
    "execution": {
     "iopub.execute_input": "2025-03-18T09:41:05.945602Z",
     "iopub.status.busy": "2025-03-18T09:41:05.945404Z",
     "iopub.status.idle": "2025-03-18T09:41:05.949475Z",
     "shell.execute_reply": "2025-03-18T09:41:05.948830Z"
    },
    "papermill": {
     "duration": 0.011009,
     "end_time": "2025-03-18T09:41:05.950676",
     "exception": false,
     "start_time": "2025-03-18T09:41:05.939667",
     "status": "completed"
    },
    "tags": []
   },
   "outputs": [],
   "source": [
    "class RegressionModule(torch.nn.Module):\n",
    "    def __init__(self, input_dim):\n",
    "        super().__init__()\n",
    "        self.fc1 = torch.nn.Linear(input_dim, 64)\n",
    "        self.fc2 = torch.nn.Linear(64, 32)\n",
    "        self.fc3 = torch.nn.Linear(32, 1)\n",
    "        \n",
    "    def forward(self, x):\n",
    "        x = torch.relu(self.fc1(x))\n",
    "        x = torch.relu(self.fc2(x))\n",
    "        return self.fc3(x)"
   ]
  },
  {
   "cell_type": "markdown",
   "id": "2044dd69",
   "metadata": {
    "papermill": {
     "duration": 0.004914,
     "end_time": "2025-03-18T09:41:05.960605",
     "exception": false,
     "start_time": "2025-03-18T09:41:05.955691",
     "status": "completed"
    },
    "tags": []
   },
   "source": [
    "## Full Model"
   ]
  },
  {
   "cell_type": "code",
   "execution_count": 7,
   "id": "2a3a9d69",
   "metadata": {
    "execution": {
     "iopub.execute_input": "2025-03-18T09:41:05.971768Z",
     "iopub.status.busy": "2025-03-18T09:41:05.971573Z",
     "iopub.status.idle": "2025-03-18T09:41:05.975434Z",
     "shell.execute_reply": "2025-03-18T09:41:05.974667Z"
    },
    "papermill": {
     "duration": 0.010689,
     "end_time": "2025-03-18T09:41:05.976759",
     "exception": false,
     "start_time": "2025-03-18T09:41:05.966070",
     "status": "completed"
    },
    "tags": []
   },
   "outputs": [],
   "source": [
    "class ILGR(torch.nn.Module):\n",
    "    def __init__(self, hidden_channels):\n",
    "        super().__init__()\n",
    "        self.embedding = ILGRNodeEmbedding(hidden_channels)\n",
    "        self.regression = RegressionModule(hidden_channels * 4)  # Concatenated embeddings\n",
    "        \n",
    "    def forward(self, data):\n",
    "        x, edge_index = data.x, data.edge_index\n",
    "        embedding = self.embedding(x, edge_index)\n",
    "        return self.regression(embedding)"
   ]
  },
  {
   "cell_type": "markdown",
   "id": "b99125c9",
   "metadata": {
    "papermill": {
     "duration": 0.004856,
     "end_time": "2025-03-18T09:41:05.986939",
     "exception": false,
     "start_time": "2025-03-18T09:41:05.982083",
     "status": "completed"
    },
    "tags": []
   },
   "source": [
    "### Criticality Score Calculation"
   ]
  },
  {
   "cell_type": "markdown",
   "id": "9a33894d",
   "metadata": {
    "papermill": {
     "duration": 0.004897,
     "end_time": "2025-03-18T09:41:05.996850",
     "exception": false,
     "start_time": "2025-03-18T09:41:05.991953",
     "status": "completed"
    },
    "tags": []
   },
   "source": [
    "### Algorithm 3: Conventional Approach for Identifying Critical Nodes/Links\n",
    "**Input:** Graph $ G $ with $ V $ nodes.\n",
    "**Output:** Node critical scores.\n",
    "\n",
    "**1. For each node/link** $ n $ in $ V $:\n",
    "   - Remove node $ n $ from the graph $ G $.\n",
    "   - Compute robustness metric of the **residual graph** $ (G - n) $.\n",
    "   - Assign a **criticality score** to node $ n $.\n",
    "\n",
    "**2. End loop**.\n",
    "\n",
    "3. Rank nodes based on computed **criticality scores**.\n",
    "4. Top ranks correspond to the **most critical nodes**.\n",
    "**5. Return**: Top $ N\\% $ of most critical nodes."
   ]
  },
  {
   "cell_type": "code",
   "execution_count": 8,
   "id": "6e50bfd7",
   "metadata": {
    "execution": {
     "iopub.execute_input": "2025-03-18T09:41:06.007650Z",
     "iopub.status.busy": "2025-03-18T09:41:06.007444Z",
     "iopub.status.idle": "2025-03-18T09:41:06.011214Z",
     "shell.execute_reply": "2025-03-18T09:41:06.010533Z"
    },
    "papermill": {
     "duration": 0.010409,
     "end_time": "2025-03-18T09:41:06.012432",
     "exception": false,
     "start_time": "2025-03-18T09:41:06.002023",
     "status": "completed"
    },
    "tags": []
   },
   "outputs": [],
   "source": [
    "def compute_criticality_scores(graph, metric):\n",
    "    scores = []\n",
    "    for node in tqdm(graph.nodes(), desc=\"Computing Criticality Scores\"):\n",
    "        subgraph = graph.copy()\n",
    "        subgraph.remove_node(node)\n",
    "        score = metric(graph) - metric(subgraph)  # Drop in robustness\n",
    "        scores.append(score)\n",
    "    return scores"
   ]
  },
  {
   "cell_type": "markdown",
   "id": "ddeda1b8",
   "metadata": {
    "papermill": {
     "duration": 0.004976,
     "end_time": "2025-03-18T09:41:06.022332",
     "exception": false,
     "start_time": "2025-03-18T09:41:06.017356",
     "status": "completed"
    },
    "tags": []
   },
   "source": [
    "### Ranking Loss\n",
    "$$\n",
    "     L_{ij} = -f(r_{ij}) \\log(σ(\\hat{y}_{ij})) - (1 - f(r_{ij})) \\log(1 - σ(\\hat{y}_{ij}))\n",
    "     $$"
   ]
  },
  {
   "cell_type": "code",
   "execution_count": 9,
   "id": "f95c7110",
   "metadata": {
    "execution": {
     "iopub.execute_input": "2025-03-18T09:41:06.032845Z",
     "iopub.status.busy": "2025-03-18T09:41:06.032649Z",
     "iopub.status.idle": "2025-03-18T09:41:06.037360Z",
     "shell.execute_reply": "2025-03-18T09:41:06.036720Z"
    },
    "papermill": {
     "duration": 0.011341,
     "end_time": "2025-03-18T09:41:06.038562",
     "exception": false,
     "start_time": "2025-03-18T09:41:06.027221",
     "status": "completed"
    },
    "tags": []
   },
   "outputs": [
    {
     "data": {
      "text/plain": [
       "'def pairwise_ranking_loss(y_pred, y_true):\\n    # Compare all pairs of nodes\\n    loss = 0\\n    for i in range(len(y_true)):\\n        for j in range(i+1, len(y_true)):\\n            if y_true[i] > y_true[j]:\\n                loss += torch.log(1 + torch.exp(-(y_pred[i] - y_pred[j])))\\n            elif y_true[i] < y_true[j]:\\n                loss += torch.log(1 + torch.exp(y_pred[i] - y_pred[j]))\\n    return loss / (len(y_true) * (len(y_true)-1) / 2)'"
      ]
     },
     "execution_count": 9,
     "metadata": {},
     "output_type": "execute_result"
    }
   ],
   "source": [
    "\"\"\"def pairwise_ranking_loss(y_pred, y_true):\n",
    "    # Compare all pairs of nodes\n",
    "    loss = 0\n",
    "    for i in range(len(y_true)):\n",
    "        for j in range(i+1, len(y_true)):\n",
    "            if y_true[i] > y_true[j]:\n",
    "                loss += torch.log(1 + torch.exp(-(y_pred[i] - y_pred[j])))\n",
    "            elif y_true[i] < y_true[j]:\n",
    "                loss += torch.log(1 + torch.exp(y_pred[i] - y_pred[j]))\n",
    "    return loss / (len(y_true) * (len(y_true)-1) / 2)\"\"\""
   ]
  },
  {
   "cell_type": "markdown",
   "id": "ed635972",
   "metadata": {
    "papermill": {
     "duration": 0.004926,
     "end_time": "2025-03-18T09:41:06.050095",
     "exception": false,
     "start_time": "2025-03-18T09:41:06.045169",
     "status": "completed"
    },
    "tags": []
   },
   "source": [
    "### Optimize Pairwise Loss Computation\n",
    "Replace the nested-loop pairwise loss with a vectorized implementation to handle large graphs:"
   ]
  },
  {
   "cell_type": "code",
   "execution_count": 10,
   "id": "dabc2e15",
   "metadata": {
    "execution": {
     "iopub.execute_input": "2025-03-18T09:41:06.061080Z",
     "iopub.status.busy": "2025-03-18T09:41:06.060822Z",
     "iopub.status.idle": "2025-03-18T09:41:06.064809Z",
     "shell.execute_reply": "2025-03-18T09:41:06.064257Z"
    },
    "papermill": {
     "duration": 0.010696,
     "end_time": "2025-03-18T09:41:06.065883",
     "exception": false,
     "start_time": "2025-03-18T09:41:06.055187",
     "status": "completed"
    },
    "tags": []
   },
   "outputs": [],
   "source": [
    "def pairwise_ranking_loss(y_pred, y_true):\n",
    "    y_pred = y_pred.squeeze()\n",
    "    y_true = y_true.squeeze()\n",
    "    \n",
    "    # Compute all pairwise differences\n",
    "    diff_pred = y_pred.unsqueeze(1) - y_pred.unsqueeze(0)  # Shape [N, N]\n",
    "    diff_true = y_true.unsqueeze(1) - y_true.unsqueeze(0)  # Shape [N, N]\n",
    "    \n",
    "    # Mask for valid pairs (i < j)\n",
    "    mask = torch.triu(torch.ones_like(diff_true), diagonal=1).bool()\n",
    "    diff_pred = diff_pred[mask]\n",
    "    diff_true = diff_true[mask]\n",
    "    \n",
    "    # Compute loss\n",
    "    loss = torch.log(1 + torch.exp(-torch.sign(diff_true) * diff_pred)).mean()\n",
    "    return loss"
   ]
  },
  {
   "cell_type": "markdown",
   "id": "71fa165c",
   "metadata": {
    "papermill": {
     "duration": 0.00492,
     "end_time": "2025-03-18T09:41:06.076007",
     "exception": false,
     "start_time": "2025-03-18T09:41:06.071087",
     "status": "completed"
    },
    "tags": []
   },
   "source": [
    "## Graph Preprocessing"
   ]
  },
  {
   "cell_type": "markdown",
   "id": "28302d21",
   "metadata": {
    "papermill": {
     "duration": 0.005308,
     "end_time": "2025-03-18T09:41:06.086532",
     "exception": false,
     "start_time": "2025-03-18T09:41:06.081224",
     "status": "completed"
    },
    "tags": []
   },
   "source": [
    "### Generate Synthetic Graphs"
   ]
  },
  {
   "cell_type": "code",
   "execution_count": 11,
   "id": "ae76300c",
   "metadata": {
    "execution": {
     "iopub.execute_input": "2025-03-18T09:41:06.097499Z",
     "iopub.status.busy": "2025-03-18T09:41:06.097249Z",
     "iopub.status.idle": "2025-03-18T09:41:06.100806Z",
     "shell.execute_reply": "2025-03-18T09:41:06.099987Z"
    },
    "papermill": {
     "duration": 0.01034,
     "end_time": "2025-03-18T09:41:06.101970",
     "exception": false,
     "start_time": "2025-03-18T09:41:06.091630",
     "status": "completed"
    },
    "tags": []
   },
   "outputs": [],
   "source": [
    "# Power-law graph (Barabási-Albert model)\n",
    "def generate_power_law(n, m):\n",
    "    return nx.barabasi_albert_graph(n, m)\n",
    "\n",
    "# Power-law cluster graph (Holme-Kim model)\n",
    "def generate_power_law_cluster(n, m, p):\n",
    "    return nx.powerlaw_cluster_graph(n, m, p)"
   ]
  },
  {
   "cell_type": "markdown",
   "id": "f5dcb3c7",
   "metadata": {
    "papermill": {
     "duration": 0.00524,
     "end_time": "2025-03-18T09:41:06.112293",
     "exception": false,
     "start_time": "2025-03-18T09:41:06.107053",
     "status": "completed"
    },
    "tags": []
   },
   "source": [
    "### real-world datasets (load function)"
   ]
  },
  {
   "cell_type": "code",
   "execution_count": 12,
   "id": "ba251396",
   "metadata": {
    "execution": {
     "iopub.execute_input": "2025-03-18T09:41:06.123357Z",
     "iopub.status.busy": "2025-03-18T09:41:06.123143Z",
     "iopub.status.idle": "2025-03-18T09:41:06.126334Z",
     "shell.execute_reply": "2025-03-18T09:41:06.125569Z"
    },
    "papermill": {
     "duration": 0.010057,
     "end_time": "2025-03-18T09:41:06.127553",
     "exception": false,
     "start_time": "2025-03-18T09:41:06.117496",
     "status": "completed"
    },
    "tags": []
   },
   "outputs": [],
   "source": [
    "def load_real_world_graph(dataset_name):\n",
    "    G = nx.read_edgelist(dataset_name, nodetype=int)\n",
    "    return G"
   ]
  },
  {
   "cell_type": "markdown",
   "id": "30c8edb9",
   "metadata": {
    "papermill": {
     "duration": 0.005259,
     "end_time": "2025-03-18T09:41:06.138114",
     "exception": false,
     "start_time": "2025-03-18T09:41:06.132855",
     "status": "completed"
    },
    "tags": []
   },
   "source": [
    "### Convert NetworkX graph to PyTorch Geometric format"
   ]
  },
  {
   "cell_type": "code",
   "execution_count": 13,
   "id": "17936a13",
   "metadata": {
    "execution": {
     "iopub.execute_input": "2025-03-18T09:41:06.149123Z",
     "iopub.status.busy": "2025-03-18T09:41:06.148866Z",
     "iopub.status.idle": "2025-03-18T09:41:06.153818Z",
     "shell.execute_reply": "2025-03-18T09:41:06.153081Z"
    },
    "papermill": {
     "duration": 0.011613,
     "end_time": "2025-03-18T09:41:06.154915",
     "exception": false,
     "start_time": "2025-03-18T09:41:06.143302",
     "status": "completed"
    },
    "tags": []
   },
   "outputs": [],
   "source": [
    "def nx_to_pyg(nx_graph, criticality_scores):\n",
    "    # Convert NetworkX graph to PyG format\n",
    "    pyg_data = from_networkx(nx_graph)\n",
    "\n",
    "    # Compute node features: degree, average neighbor degree, etc.\n",
    "    degrees = torch.tensor([nx_graph.degree(n) for n in nx_graph.nodes()], dtype=torch.float).view(-1, 1)\n",
    "    avg_neighbor_degrees = torch.tensor([np.mean([nx_graph.degree(neighbor) for neighbor in nx_graph.neighbors(n)]) \n",
    "                                      if nx_graph.degree(n) > 0 else 0 for n in nx_graph.nodes()], dtype=torch.float).view(-1, 1)\n",
    "    \n",
    "    # Combine features\n",
    "    pyg_data.x = torch.cat([degrees, avg_neighbor_degrees, criticality_scores.view(-1, 1)], dim=-1)\n",
    "\n",
    "    return pyg_data"
   ]
  },
  {
   "cell_type": "markdown",
   "id": "2968d593",
   "metadata": {
    "papermill": {
     "duration": 0.004975,
     "end_time": "2025-03-18T09:41:06.165516",
     "exception": false,
     "start_time": "2025-03-18T09:41:06.160541",
     "status": "completed"
    },
    "tags": []
   },
   "source": [
    "## Algorithm 2: ILGR Training\n",
    "**Input:** Model with unknown weights.\n",
    "**Output:** Trained model.\n",
    "\n",
    "1. Compute ground truth **criticality scores** of nodes based on graph robustness score.\n",
    "2. **For each epoch do**:\n",
    "   - Get each **node embedding** from the embedding module.\n",
    "   - Estimate **criticality scores** of nodes/links using the regression module.\n",
    "   - Update weights of both modules by solving the loss function:\n",
    "     $$\n",
    "     L_{ij} = -f(r_{ij}) \\log(σ(\\hat{y}_{ij})) - (1 - f(r_{ij})) \\log(1 - σ(\\hat{y}_{ij}))\n",
    "     $$\n",
    "3. **End loop**.\n",
    "4. Predict nodescores on the test graph.\n",
    "5. **Return**: Top $ N\\% $ of most critical nodes.\n"
   ]
  },
  {
   "cell_type": "code",
   "execution_count": 14,
   "id": "8b836202",
   "metadata": {
    "execution": {
     "iopub.execute_input": "2025-03-18T09:41:06.176646Z",
     "iopub.status.busy": "2025-03-18T09:41:06.176439Z",
     "iopub.status.idle": "2025-03-18T09:41:06.181843Z",
     "shell.execute_reply": "2025-03-18T09:41:06.181040Z"
    },
    "papermill": {
     "duration": 0.012454,
     "end_time": "2025-03-18T09:41:06.183042",
     "exception": false,
     "start_time": "2025-03-18T09:41:06.170588",
     "status": "completed"
    },
    "tags": []
   },
   "outputs": [],
   "source": [
    "def train_model(model, data, y_true, epochs=100, lr=0.001):\n",
    "    device = torch.device(\"cuda\" if torch.cuda.is_available() else \"cpu\")\n",
    "    model.to(device)\n",
    "    data, y_true = data.to(device), y_true.to(device)\n",
    "    \n",
    "    optimizer = torch.optim.Adam(model.parameters(), lr=lr)\n",
    "    loss_curve = []  # To store loss values for plotting\n",
    "\n",
    "    progress_bar = tqdm(range(epochs), desc=\"Training Model\", dynamic_ncols=True)\n",
    "    \n",
    "    for epoch in progress_bar:\n",
    "        model.train()\n",
    "        optimizer.zero_grad()\n",
    "\n",
    "        # Forward pass\n",
    "        y_pred = model(data)\n",
    "\n",
    "        # Compute loss\n",
    "        loss = pairwise_ranking_loss(y_pred, y_true)\n",
    "\n",
    "        # Backward pass and optimization\n",
    "        loss.backward()\n",
    "        optimizer.step()\n",
    "\n",
    "        loss_curve.append(loss.item())  # Store loss for plotting\n",
    "        \n",
    "        # Update progress bar with loss value\n",
    "        progress_bar.set_postfix(loss=loss.item())\n",
    "\n",
    "    # Plot the loss curve after training\n",
    "    plt.plot(range(epochs), loss_curve)\n",
    "    plt.title('Loss Curve')\n",
    "    plt.xlabel('Epochs')\n",
    "    plt.ylabel('Loss')\n",
    "    plt.show()\n"
   ]
  },
  {
   "cell_type": "markdown",
   "id": "e462184c",
   "metadata": {
    "papermill": {
     "duration": 0.00507,
     "end_time": "2025-03-18T09:41:06.193277",
     "exception": false,
     "start_time": "2025-03-18T09:41:06.188207",
     "status": "completed"
    },
    "tags": []
   },
   "source": [
    "### **Evaluation Metrics: Top-N% Accuracy**\n",
    "\n",
    "To measure the accuracy of our framework, we use **Top-N% Accuracy**, which is defined as the percentage of overlap between the predicted Top-N% nodes/links and the ground-truth Top-N% nodes/links (computed using a conventional baseline approach). \n",
    "\n",
    "The formula for **Top-N% Accuracy** is given by:\n",
    "\n",
    "$$\n",
    "\\text{Top-N% Accuracy} = \\frac{\\left| \\{\\text{Predicted Top-N% nodes/links}\\} \\cap \\{\\text{True Top-N% nodes/links}\\} \\right|}{|V| \\times (N/100)}\n",
    "$$\n",
    "\n",
    "where:\n",
    "- $ |V| $ is the total number of nodes/links in the graph.\n",
    "- $ N $ is the percentage band (e.g., Top-5%).\n",
    "- $ \\cap $ denotes the intersection between the predicted and true Top-N% sets.\n"
   ]
  },
  {
   "cell_type": "code",
   "execution_count": 15,
   "id": "af31f403",
   "metadata": {
    "execution": {
     "iopub.execute_input": "2025-03-18T09:41:06.204457Z",
     "iopub.status.busy": "2025-03-18T09:41:06.204250Z",
     "iopub.status.idle": "2025-03-18T09:41:06.208204Z",
     "shell.execute_reply": "2025-03-18T09:41:06.207431Z"
    },
    "papermill": {
     "duration": 0.010907,
     "end_time": "2025-03-18T09:41:06.209392",
     "exception": false,
     "start_time": "2025-03-18T09:41:06.198485",
     "status": "completed"
    },
    "tags": []
   },
   "outputs": [],
   "source": [
    "def top_n_accuracy(y_pred, y_true, N=5):\n",
    "    num_nodes = len(y_true)\n",
    "    top_n = int(num_nodes * (N / 100))\n",
    "\n",
    "    # Get indices of top N% nodes for predicted and true values\n",
    "    top_pred = torch.argsort(y_pred.squeeze(), descending=True)[:top_n]\n",
    "    top_true = torch.argsort(y_true.squeeze(), descending=True)[:top_n]\n",
    "\n",
    "    # Compute accuracy as percentage of overlap\n",
    "    accuracy = len(set(top_pred.tolist()) & set(top_true.tolist())) / top_n\n",
    "    return accuracy"
   ]
  },
  {
   "cell_type": "markdown",
   "id": "eee7fd49",
   "metadata": {
    "papermill": {
     "duration": 0.005066,
     "end_time": "2025-03-18T09:41:06.219675",
     "exception": false,
     "start_time": "2025-03-18T09:41:06.214609",
     "status": "completed"
    },
    "tags": []
   },
   "source": [
    "### **Test the framwork**"
   ]
  },
  {
   "cell_type": "markdown",
   "id": "6a660e76",
   "metadata": {
    "papermill": {
     "duration": 0.004928,
     "end_time": "2025-03-18T09:41:06.229805",
     "exception": false,
     "start_time": "2025-03-18T09:41:06.224877",
     "status": "completed"
    },
    "tags": []
   },
   "source": [
    "### 100 nodes (power-law graph)"
   ]
  },
  {
   "cell_type": "code",
   "execution_count": 16,
   "id": "54d1242c",
   "metadata": {
    "execution": {
     "iopub.execute_input": "2025-03-18T09:41:06.241108Z",
     "iopub.status.busy": "2025-03-18T09:41:06.240809Z",
     "iopub.status.idle": "2025-03-18T09:44:27.593206Z",
     "shell.execute_reply": "2025-03-18T09:44:27.592083Z"
    },
    "papermill": {
     "duration": 201.359499,
     "end_time": "2025-03-18T09:44:27.594680",
     "exception": false,
     "start_time": "2025-03-18T09:41:06.235181",
     "status": "completed"
    },
    "tags": []
   },
   "outputs": [
    {
     "name": "stderr",
     "output_type": "stream",
     "text": [
      "Computing Criticality Scores: 100%|██████████| 1000/1000 [03:12<00:00,  5.20it/s]\n"
     ]
    },
    {
     "name": "stdout",
     "output_type": "stream",
     "text": [
      "ILGR(\n",
      "  (embedding): ILGRNodeEmbedding(\n",
      "    (conv1): SAGEConv(3, 32, aggr=mean)\n",
      "    (conv2): SAGEConv(32, 32, aggr=mean)\n",
      "    (conv3): SAGEConv(32, 32, aggr=mean)\n",
      "    (attention): MultiheadAttention(\n",
      "      (out_proj): NonDynamicallyQuantizableLinear(in_features=32, out_features=32, bias=True)\n",
      "    )\n",
      "  )\n",
      "  (regression): RegressionModule(\n",
      "    (fc1): Linear(in_features=128, out_features=64, bias=True)\n",
      "    (fc2): Linear(in_features=64, out_features=32, bias=True)\n",
      "    (fc3): Linear(in_features=32, out_features=1, bias=True)\n",
      "  )\n",
      ")\n"
     ]
    },
    {
     "name": "stderr",
     "output_type": "stream",
     "text": [
      "Training Model: 100%|██████████| 1000/1000 [00:08<00:00, 122.07it/s, loss=0.102]\n"
     ]
    },
    {
     "data": {
      "image/png": "[encoded data removed]",
      "text/plain": [
       "<Figure size 640x480 with 1 Axes>"
      ]
     },
     "metadata": {},
     "output_type": "display_data"
    },
    {
     "name": "stdout",
     "output_type": "stream",
     "text": [
      "Top-5% True Node Indices: [455, 778, 938, 591, 658, 607, 629, 763, 766, 926, 831, 942, 834, 890, 685, 339, 877, 939, 258, 869, 714, 554, 521, 829, 899, 979, 959, 571, 962, 984, 895, 330, 767, 948, 651, 977, 662, 865, 370, 826, 624, 744, 856, 821, 713, 771, 273, 143, 796, 463]\n",
      "Top-5% Predicted Node Indices: [607, 984, 554, 455, 763, 899, 778, 939, 938, 591, 834, 948, 962, 829, 662, 258, 929, 831, 890, 959, 339, 856, 877, 869, 926, 629, 685, 865, 821, 785, 516, 960, 592, 919, 694, 942, 273, 352, 714, 790, 147, 735, 571, 137, 757, 843, 958, 463, 914, 738]\n",
      "Top-5% True Criticality Scores: [0.00018089615332428366, 0.00017895223572850227, 0.00017862040840554982, 0.00016397870786022395, 0.00016072993457783014, 0.000145299025462009, 0.00014128648035693914, 0.0001324074255535379, 0.00013149016012903303, 0.00011245473433518782, 0.00011128453479614109, 0.00011027065920643508, 0.00010617400403134525, 9.61742625804618e-05, 9.592022252036259e-05, 9.507950744591653e-05, 9.442654845770448e-05, 9.219508501701057e-05, 9.146123920800164e-05, 9.086849604500458e-05, 9.074083936866373e-05, 9.070440864888951e-05, 9.062105527846143e-05, 9.059109288500622e-05, 8.937365055317059e-05, 8.8954133389052e-05, 8.880761015461758e-05, 8.827490091789514e-05, 8.751872519496828e-05, 8.66656846483238e-05, 8.394136239076033e-05, 8.394136239076033e-05, 8.342453656950966e-05, 8.191102097043768e-05, 7.857135642552748e-05, 7.67402452765964e-05, 7.634220673935488e-05, 7.582533726235852e-05, 7.51991246943362e-05, 7.296117109945044e-05, 7.269468187587336e-05, 7.198856474133208e-05, 7.191101758508012e-05, 6.973982090130448e-05, 6.85127088217996e-05, 6.832188955741003e-05, 6.828195910202339e-05, 6.780096009606495e-05, 6.749363819835708e-05, 6.732442125212401e-05]\n",
      "Top-5% Predicted Criticality Scores: [[43.009422302246094], [42.721099853515625], [41.05842971801758], [40.90447998046875], [40.65635299682617], [40.65461349487305], [40.63779067993164], [40.4781379699707], [40.204647064208984], [40.067237854003906], [39.97028350830078], [39.09975051879883], [38.70393371582031], [38.57706069946289], [38.396026611328125], [38.369667053222656], [38.01003646850586], [37.98224639892578], [37.952293395996094], [37.924983978271484], [37.770687103271484], [37.69957733154297], [37.549381256103516], [37.4858512878418], [37.421348571777344], [37.312828063964844], [37.23733901977539], [37.00236892700195], [36.69227981567383], [36.61143112182617], [36.5335807800293], [36.507545471191406], [36.496646881103516], [36.460777282714844], [36.431610107421875], [36.42914962768555], [36.404335021972656], [36.285831451416016], [36.050506591796875], [36.03242111206055], [36.02608108520508], [36.02265548706055], [35.97399139404297], [35.771331787109375], [35.69020462036133], [35.6667594909668], [35.66331100463867], [35.6624641418457], [35.62675476074219], [35.56829071044922]]\n",
      "Top-5% Accuracy: 66.00%\n"
     ]
    }
   ],
   "source": [
    "# Step 1: Generate a power-law graph\n",
    "G = generate_power_law(n=1000, m=2)\n",
    "\n",
    "# Step 2: Compute criticality scores\n",
    "y_true = compute_criticality_scores(G, compute_effective_resistance)\n",
    "y_true = torch.tensor(y_true, dtype=torch.float)\n",
    "\n",
    "# Step 3: Convert to PyG format with node features\n",
    "data = nx_to_pyg(G, y_true)\n",
    "\n",
    "# Step 4: Define the model\n",
    "hidden_dim = 32\n",
    "model = ILGR(hidden_dim)\n",
    "print(model)\n",
    "\n",
    "# Step 5: Train the model\n",
    "train_model(model, data, y_true, epochs=1000, lr=0.001)\n",
    "\n",
    "# Step 6: Evaluate the model\n",
    "model.eval()\n",
    "y_pred = model(data).detach()  # Ensure no gradients\n",
    "\n",
    "# Evaluate the top-N% nodes based on their criticality scores (true values)\n",
    "top_n = int(len(y_true) * 0.05)  # Top 5% nodes\n",
    "top_n_true_indices = torch.argsort(y_true.squeeze(), descending=True)[:top_n]\n",
    "top_n_pred_indices = torch.argsort(y_pred.squeeze(), descending=True)[:top_n]\n",
    "\n",
    "print(\"Top-5% True Node Indices:\", top_n_true_indices.tolist())\n",
    "print(\"Top-5% Predicted Node Indices:\", top_n_pred_indices.tolist())\n",
    "\n",
    "# Display top-5% criticality scores for both true and predicted values\n",
    "print(\"Top-5% True Criticality Scores:\", y_true[top_n_true_indices].tolist())\n",
    "print(\"Top-5% Predicted Criticality Scores:\", y_pred[top_n_pred_indices].tolist())\n",
    "\n",
    "\n",
    "accuracy = top_n_accuracy(y_pred, y_true, N=5)  # Top-5% accuracy\n",
    "print(f\"Top-5% Accuracy: {accuracy * 100:.2f}%\")"
   ]
  },
  {
   "cell_type": "code",
   "execution_count": null,
   "id": "ae536a1e",
   "metadata": {
    "papermill": {
     "duration": 0.161005,
     "end_time": "2025-03-18T09:44:27.857808",
     "exception": false,
     "start_time": "2025-03-18T09:44:27.696803",
     "status": "completed"
    },
    "tags": []
   },
   "outputs": [],
   "source": []
  }
 ],
 "metadata": {
  "kaggle": {
   "accelerator": "nvidiaTeslaT4",
   "dataSources": [],
   "dockerImageVersionId": 30918,
   "isGpuEnabled": true,
   "isInternetEnabled": true,
   "language": "python",
   "sourceType": "notebook"
  },
  "kernelspec": {
   "display_name": "Python 3",
   "language": "python",
   "name": "python3"
  },
  "language_info": {
   "codemirror_mode": {
    "name": "ipython",
    "version": 3
   },
   "file_extension": ".py",
   "mimetype": "text/x-python",
   "name": "python",
   "nbconvert_exporter": "python",
   "pygments_lexer": "ipython3",
   "version": "3.10.12"
  },
  "papermill": {
   "default_parameters": {},
   "duration": 222.950037,
   "end_time": "2025-03-18T09:44:29.780436",
   "environment_variables": {},
   "exception": null,
   "input_path": "__notebook__.ipynb",
   "output_path": "__notebook__.ipynb",
   "parameters": {},
   "start_time": "2025-03-18T09:40:46.830399",
   "version": "2.6.0"
  }
 },
 "nbformat": 4,
 "nbformat_minor": 5
}
